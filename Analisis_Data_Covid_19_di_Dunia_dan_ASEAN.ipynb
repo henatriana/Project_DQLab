{
  "nbformat": 4,
  "nbformat_minor": 0,
  "metadata": {
    "colab": {
      "name": "[DQLab Applied Python]Analisis Data Covid 19 di Dunia dan ASEAN.ipynb",
      "provenance": [],
      "toc_visible": true,
      "authorship_tag": "ABX9TyM/y5nJ74uPOOUSwj/6nRr2"
    },
    "kernelspec": {
      "name": "python3",
      "display_name": "Python 3"
    }
  },
  "cells": [
    {
      "cell_type": "markdown",
      "metadata": {
        "id": "S2yHhBKJMz0R",
        "colab_type": "text"
      },
      "source": [
        "# Data Science Project: Analisis Data COVID19 di Dunia & ASEAN\n",
        "## Data Mentor : \n",
        "**Syarif Hidayatullah** - Senior Data Consultant\n",
        "Deloitte Consulting\n",
        "\n",
        "## About This Course:\n",
        "Dengan menyelesaikan module ini, kamu akan mempraktekkan proses pengambilan data melalui Python API Request. Di samping itu kamu akan belajar untuk menggunakan merge dataset menggunakan PANDAS dan membuat visualisasi menggunakan Matplotlib.   "
      ]
    },
    {
      "cell_type": "markdown",
      "metadata": {
        "id": "OFnIKX_LNXZg",
        "colab_type": "text"
      },
      "source": [
        "# Pendahuluan\n",
        "Covid19 adalah pandemi yang sudah mewabah ke seluruh dunia. Sebagian besar negara-negara di dunia sudah terjangkit. Penanganan tiap-tiap negara pun berbeda, sesuai dengan kebijakan pemerintah. Hal ini mengakibatkan perbedaan trend kenaikan atau penurunan kasus covid berbeda-beda tiap negara.\n",
        "\n",
        "Pada kasus kali ini, kita akan mencoba menggali data covid19 dari salah satu open api yang tersedia yaitu https://covid19-api.org/.\n",
        "\n",
        "## Library yang dibutuhkan\n",
        "Pertama-tama, import terlebih dahulu library yang dibutuhkan, antara lain secara berurutan adalah\n",
        "- json,\n",
        "- numpy,\n",
        "- pandas, dan\n",
        "- requests.\n",
        "\n",
        "Library numpy dan pandas diimport sebagai aliasnya."
      ]
    },
    {
      "cell_type": "code",
      "metadata": {
        "id": "fXQjxA02Mjbz",
        "colab_type": "code",
        "colab": {}
      },
      "source": [
        "import json\n",
        "import numpy as np\n",
        "import pandas as pd\n",
        "import requests"
      ],
      "execution_count": 11,
      "outputs": []
    },
    {
      "cell_type": "markdown",
      "metadata": {
        "id": "VtrlofRBOMDs",
        "colab_type": "text"
      },
      "source": [
        "# Mengakses Data Covid-19 Dari https://covid19-api.org\n",
        "## Membuat Fungsi get API\n",
        "Buat fungsi python get_json dengan parameter api_url. fungsi ini akan mengembalikan value berupa python dictionary jika status_code yang dihasilkan adalah 200. Jika tidak, maka value yang dikembalikan adalah None."
      ]
    },
    {
      "cell_type": "code",
      "metadata": {
        "id": "Qvn6NQdOOl6o",
        "colab_type": "code",
        "colab": {}
      },
      "source": [
        "def get_json(api_url):\n",
        "\tresponse = requests.get(api_url)\n",
        "\tif response.status_code == 200:\n",
        "\t\treturn json.loads(response.content.decode('utf-8'))\n",
        "\telse:\n",
        "\t\treturn None"
      ],
      "execution_count": 12,
      "outputs": []
    },
    {
      "cell_type": "markdown",
      "metadata": {
        "id": "3MIVU2GROp4Z",
        "colab_type": "text"
      },
      "source": [
        "## Memanggil API Covid19"
      ]
    },
    {
      "cell_type": "code",
      "metadata": {
        "id": "QbFEb_BmPNIY",
        "colab_type": "code",
        "colab": {
          "base_uri": "https://localhost:8080/",
          "height": 178
        },
        "outputId": "f3e72b23-a4c5-427a-ae03-3140122544ad"
      },
      "source": [
        "record_date = '2020-08-17'\n",
        "covid_url = 'https://covid19-api.org/api/status?date='+record_date\n",
        "df_covid_worldwide = pd.io.json.json_normalize(get_json(covid_url))\n",
        "\n",
        "print(df_covid_worldwide.head())"
      ],
      "execution_count": 13,
      "outputs": [
        {
          "output_type": "stream",
          "text": [
            "  country          last_update    cases  deaths  recovered\n",
            "0      US  2020-08-16T23:27:50  5401167  170019    1833067\n",
            "1      BR  2020-08-16T23:27:50  3340197  107852    2655017\n",
            "2      IN  2020-08-16T23:27:50  2589682   49980    1862258\n",
            "3      RU  2020-08-16T23:27:50   920719   15653     731444\n",
            "4      ZA  2020-08-16T23:27:50   587345   11839     472377\n"
          ],
          "name": "stdout"
        },
        {
          "output_type": "stream",
          "text": [
            "/usr/local/lib/python3.6/dist-packages/ipykernel_launcher.py:3: FutureWarning: pandas.io.json.json_normalize is deprecated, use pandas.json_normalize instead\n",
            "  This is separate from the ipykernel package so we can avoid doing imports until\n"
          ],
          "name": "stderr"
        }
      ]
    },
    {
      "cell_type": "markdown",
      "metadata": {
        "id": "yjzE6QPZPRu-",
        "colab_type": "text"
      },
      "source": [
        "## Merubah Format date"
      ]
    },
    {
      "cell_type": "code",
      "metadata": {
        "id": "P8CjOGAOPQ3y",
        "colab_type": "code",
        "colab": {}
      },
      "source": [
        "df_covid_worldwide['last_update'] = pd.to_datetime(df_covid_worldwide['last_update'], format='%Y-%m-%d %H:%M:%S')\n",
        "df_covid_worldwide['last_update'] = df_covid_worldwide['last_update'].apply(lambda x: x.date())"
      ],
      "execution_count": 15,
      "outputs": []
    },
    {
      "cell_type": "markdown",
      "metadata": {
        "id": "GOd-FoqTUapa",
        "colab_type": "text"
      },
      "source": [
        "## Mengambil Data Counties"
      ]
    },
    {
      "cell_type": "code",
      "metadata": {
        "id": "b30NDa54UdaG",
        "colab_type": "code",
        "colab": {
          "base_uri": "https://localhost:8080/",
          "height": 178
        },
        "outputId": "2e634086-39f6-4dc2-c8b1-cac03764339f"
      },
      "source": [
        "countries_url = 'https://covid19-api.org/api/countries'\n",
        "df_countries = pd.io.json.json_normalize(get_json(countries_url))\n",
        "df_countries = df_countries.rename(columns={'alpha2': 'country'})[['name','country']]\n",
        "\n",
        "print(df_countries.head())"
      ],
      "execution_count": 16,
      "outputs": [
        {
          "output_type": "stream",
          "text": [
            "          name country\n",
            "0  Afghanistan      AF\n",
            "1      Albania      AL\n",
            "2      Algeria      DZ\n",
            "3      Andorra      AD\n",
            "4       Angola      AO\n"
          ],
          "name": "stdout"
        },
        {
          "output_type": "stream",
          "text": [
            "/usr/local/lib/python3.6/dist-packages/ipykernel_launcher.py:2: FutureWarning: pandas.io.json.json_normalize is deprecated, use pandas.json_normalize instead\n",
            "  \n"
          ],
          "name": "stderr"
        }
      ]
    },
    {
      "cell_type": "markdown",
      "metadata": {
        "id": "gpYBaUixVZHo",
        "colab_type": "text"
      },
      "source": [
        "# Kasus Covid-19 di Dunia dan Negara Mana yang Tertinggi\n",
        "## Merge Covid19 Data dan Countries"
      ]
    },
    {
      "cell_type": "code",
      "metadata": {
        "id": "Q6EviqeRVyOG",
        "colab_type": "code",
        "colab": {
          "base_uri": "https://localhost:8080/",
          "height": 123
        },
        "outputId": "6291412e-dca9-48f7-d301-784c610c864f"
      },
      "source": [
        "df_covid_denormalized = pd.merge(df_covid_worldwide, df_countries, on='country')\n",
        "\n",
        "print(df_covid_denormalized.head())"
      ],
      "execution_count": 17,
      "outputs": [
        {
          "output_type": "stream",
          "text": [
            "  country last_update    cases  deaths  recovered                      name\n",
            "0      US  2020-08-16  5401167  170019    1833067  United States of America\n",
            "1      BR  2020-08-16  3340197  107852    2655017                    Brazil\n",
            "2      IN  2020-08-16  2589682   49980    1862258                     India\n",
            "3      RU  2020-08-16   920719   15653     731444        Russian Federation\n",
            "4      ZA  2020-08-16   587345   11839     472377              South Africa\n"
          ],
          "name": "stdout"
        }
      ]
    },
    {
      "cell_type": "markdown",
      "metadata": {
        "id": "zpA55NgwVwAR",
        "colab_type": "text"
      },
      "source": [
        "## Menghitung Fatality Ratio\n",
        "Tambahkan satu kolom tambahan yaitu fatality_ratio, yang merupakan pembagian antara kolom deaths dan cases."
      ]
    },
    {
      "cell_type": "code",
      "metadata": {
        "id": "F63oRX3pWAYd",
        "colab_type": "code",
        "colab": {}
      },
      "source": [
        "df_covid_denormalized['fatality_ratio'] = df_covid_denormalized['deaths']/df_covid_denormalized['cases']"
      ],
      "execution_count": 18,
      "outputs": []
    },
    {
      "cell_type": "markdown",
      "metadata": {
        "id": "anf2AAOsWzHq",
        "colab_type": "text"
      },
      "source": [
        "## Negara-negara dengan Fatality Ratio Tertinggi"
      ]
    },
    {
      "cell_type": "code",
      "metadata": {
        "id": "trK0XxQAW5J9",
        "colab_type": "code",
        "colab": {}
      },
      "source": [
        "df_top_20_fatality_rate = df_covid_denormalized.sort_values(by='fatality_ratio', ascending=False).head(20)"
      ],
      "execution_count": 19,
      "outputs": []
    },
    {
      "cell_type": "markdown",
      "metadata": {
        "id": "rRjSecOBXD_U",
        "colab_type": "text"
      },
      "source": [
        "## Import Library Visualisasi"
      ]
    },
    {
      "cell_type": "code",
      "metadata": {
        "id": "oDxME9MeXPBM",
        "colab_type": "code",
        "colab": {}
      },
      "source": [
        "import matplotlib.pyplot as plt"
      ],
      "execution_count": 20,
      "outputs": []
    },
    {
      "cell_type": "markdown",
      "metadata": {
        "id": "d6XlMoGWXUwc",
        "colab_type": "text"
      },
      "source": [
        "## Visualisasi Negara dengan Fatality Ratio Tertinggi"
      ]
    },
    {
      "cell_type": "code",
      "metadata": {
        "id": "7pwqUXRYYhrJ",
        "colab_type": "code",
        "colab": {
          "base_uri": "https://localhost:8080/",
          "height": 452
        },
        "outputId": "c6d2b86d-64dd-4fc5-8714-288c80e08370"
      },
      "source": [
        "import matplotlib.pyplot as plt\n",
        "plt.figure(figsize=(20, 8))\n",
        "x = df_top_20_fatality_rate['name']\n",
        "y = df_top_20_fatality_rate['fatality_ratio']\n",
        "plt.bar(x,y)\n",
        "\n",
        "plt.xlabel('Country Name')\n",
        "plt.ylabel('Fatality Rate')\n",
        "plt.title('Top 20 Highest Fatality Rate Countries', fontsize = '36')\n",
        "plt.xticks(rotation=90)\n",
        "plt.tight_layout()\n",
        "plt.savefig('FRC.jpg')\n",
        "plt.show()"
      ],
      "execution_count": 45,
      "outputs": [
        {
          "output_type": "display_data",
          "data": {
            "image/png": "[encoded data removed]",
            "text/plain": [
              "<Figure size 1440x576 with 1 Axes>"
            ]
          },
          "metadata": {
            "tags": [],
            "needs_background": "light"
          }
        }
      ]
    },
    {
      "cell_type": "markdown",
      "metadata": {
        "id": "xH0M8VbGZ2Xi",
        "colab_type": "text"
      },
      "source": [
        "# Kasus Covid-19 di ASEAN\n",
        "## Menggabungkan Dataframe\n",
        "Selanjutnya adalah membandingkan kasus covid19 di Indonesia (ID) dengan negara-negara tetangga, yaitu:\n",
        "\n",
        "- MY -> Malaysia,\n",
        "- SG -> Singapure,\n",
        "- TH -> Thailand,\n",
        "- VN -> Vietnam."
      ]
    },
    {
      "cell_type": "code",
      "metadata": {
        "id": "OZZBlq-QZ0Pz",
        "colab_type": "code",
        "colab": {
          "base_uri": "https://localhost:8080/",
          "height": 178
        },
        "outputId": "74bfc189-434b-45bc-a65d-04d292b062bd"
      },
      "source": [
        "countries = ['ID','MY','SG','TH','VN']\n",
        "i = 0\n",
        "for country in countries:\n",
        "\tcovid_timeline_url = 'https://covid19-api.org/api/timeline/'+country\n",
        "\tdf_covid_timeline = pd.io.json.json_normalize(get_json(covid_timeline_url))\n",
        "\tdf_covid_timeline['last_update'] = pd.to_datetime(df_covid_timeline['last_update'], format='%Y-%m-%d %H:%M:%S')\n",
        "\tdf_covid_timeline['last_update'] = df_covid_timeline['last_update'].apply(lambda x: x.date())\n",
        "\tif i==0:\n",
        "\t\tdf_covid_timeline_merged = df_covid_timeline\n",
        "\telse:\n",
        "\t\tdf_covid_timeline_merged = df_covid_timeline.append(df_covid_timeline_merged, ignore_index=True)\n",
        "\ti=i+1\n",
        "    \n",
        "print(df_covid_timeline_merged.head())"
      ],
      "execution_count": 23,
      "outputs": [
        {
          "output_type": "stream",
          "text": [
            "/usr/local/lib/python3.6/dist-packages/ipykernel_launcher.py:5: FutureWarning: pandas.io.json.json_normalize is deprecated, use pandas.json_normalize instead\n",
            "  \"\"\"\n"
          ],
          "name": "stderr"
        },
        {
          "output_type": "stream",
          "text": [
            "  country last_update  cases  deaths  recovered\n",
            "0      VN  2020-09-12   1060      35        902\n",
            "1      VN  2020-09-11   1060      35        902\n",
            "2      VN  2020-09-10   1059      35        893\n",
            "3      VN  2020-09-09   1059      35        890\n",
            "4      VN  2020-09-08   1054      35        868\n"
          ],
          "name": "stdout"
        }
      ]
    },
    {
      "cell_type": "markdown",
      "metadata": {
        "id": "FDkj_piWepa-",
        "colab_type": "text"
      },
      "source": [
        "## Merge Data Covid19 Dengan Data Country"
      ]
    },
    {
      "cell_type": "code",
      "metadata": {
        "id": "zHMDZDD1eo1y",
        "colab_type": "code",
        "colab": {}
      },
      "source": [
        "df_covid_timeline_denormalized = pd.merge(df_covid_timeline_merged, df_countries, on='country')"
      ],
      "execution_count": 24,
      "outputs": []
    },
    {
      "cell_type": "markdown",
      "metadata": {
        "id": "oftIfUV8fDkm",
        "colab_type": "text"
      },
      "source": [
        "## Kasus Covid-19 di ASEAN pada Bulan Maret 2020"
      ]
    },
    {
      "cell_type": "code",
      "metadata": {
        "id": "Q5Qn3pKueozq",
        "colab_type": "code",
        "colab": {}
      },
      "source": [
        "import datetime\n",
        "df_covid_timeline_denormalized = df_covid_timeline_denormalized[(df_covid_timeline_denormalized['last_update'] >= datetime.date(2020, 3, 1))]"
      ],
      "execution_count": 25,
      "outputs": []
    },
    {
      "cell_type": "markdown",
      "metadata": {
        "id": "jIC4PT62gpA6",
        "colab_type": "text"
      },
      "source": [
        "## Visualisasi Kasus Covid-19 di ASEAN"
      ]
    },
    {
      "cell_type": "code",
      "metadata": {
        "id": "f2hrBxGagqQC",
        "colab_type": "code",
        "colab": {
          "base_uri": "https://localhost:8080/",
          "height": 350
        },
        "outputId": "1c024fed-8415-4943-98f4-31d296dd22b3"
      },
      "source": [
        "import matplotlib.pyplot as plt\n",
        "fig = plt.figure(figsize=(10,5))\n",
        "plt.clf()\n",
        "countries = ['ID','MY','SG','TH','VN']\n",
        "for country in countries:\n",
        "\tcountry_data = df_covid_timeline_denormalized['country']==country\n",
        "\tx = df_covid_timeline_denormalized[country_data]['last_update']\n",
        "\ty = df_covid_timeline_denormalized[country_data]['cases']\n",
        "\tplt.plot(x, y, label = country)\n",
        "\n",
        "plt.legend()\n",
        "plt.xlabel('Record Date')\n",
        "plt.ylabel('Total Cases')\n",
        "plt.title('Asean Covid19 Cases Comparison')\n",
        "fig.savefig('asean covid.jpg',bbox_inches='tight', dpi=150)\n",
        "plt.show()"
      ],
      "execution_count": 32,
      "outputs": [
        {
          "output_type": "display_data",
          "data": {
            "image/png": "[encoded data removed]",
            "text/plain": [
              "<Figure size 720x360 with 1 Axes>"
            ]
          },
          "metadata": {
            "tags": [],
            "needs_background": "light"
          }
        }
      ]
    }
  ]
}