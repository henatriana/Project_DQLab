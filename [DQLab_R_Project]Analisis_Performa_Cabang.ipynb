{
  "nbformat": 4,
  "nbformat_minor": 0,
  "metadata": {
    "kernelspec": {
      "name": "ir",
      "display_name": "R",
      "language": "R"
    },
    "language_info": {
      "name": "R",
      "codemirror_mode": "r",
      "pygments_lexer": "r",
      "mimetype": "text/x-r-source",
      "file_extension": ".r",
      "version": "3.6.3"
    },
    "colab": {
      "name": "[DQLab R Project]Analisis Performa Cabang.ipynb",
      "provenance": [],
      "include_colab_link": true
    }
  },
  "cells": [
    {
      "cell_type": "markdown",
      "metadata": {
        "id": "view-in-github",
        "colab_type": "text"
      },
      "source": [
        "<a href=\"https://colab.research.google.com/github/henatriana/Project_DQLab/blob/master/%5BDQLab_R_Project%5DAnalisis_Performa_Cabang.ipynb\" target=\"_parent\"><img src=\"https://colab.research.google.com/assets/colab-badge.svg\" alt=\"Open In Colab\"/></a>"
      ]
    },
    {
      "cell_type": "markdown",
      "metadata": {
        "_uuid": "147a6d80-f741-438d-8cf5-dce45150fd65",
        "_cell_guid": "89bbe6a8-2ed1-4622-9a45-1c0daeb9809f",
        "trusted": true,
        "id": "IzRiTp7RxQDE",
        "colab_type": "text"
      },
      "source": [
        "# Project Data Analysis for Finance: Performa Cabang\n",
        "## Latar Belakang\n",
        "DQLab Finance merupakan perusahaan finance yang sudah mempunyai banyak cabang tersebar dimana-mana. Sejak berdiri pada Januari 2020, \n",
        "DQLab Finance konsisten menyalurkan pembiayaan untuk masyarakat dan semakin berkembang setiap bulannya dengan membuka cabang baru.\n",
        "\n",
        "Walaupun berumur kurang dari 1 tahun, DQLab Finance sudah mempunyai banyak cabang, oleh karena itu perlu dipantau bagaimana performa dari cabang - cabang tersebut.\n",
        "\n",
        "Pada masing-masing cabang, terdapat agen-agen yang bertugas mencari dan mendata calon mitra yang akan mengajukan pinjaman kepada DQLab Finance. \n",
        "Lalu jika sudah disetujui, agen juga yang akan memberikan uang tersebut kepada mitra.\n",
        "\n",
        "## Tugas dan langkah\n",
        "**Tugas :**\n",
        "Menganalisis Performa cabang pada bulan Mei 2020.\n",
        "\n",
        "**Langkah -langkah :**\n",
        "1. Memfilter data untuk bulan Mei 2020\n",
        "2. Membuat summary per cabang untuk melihat data 5 cabang terbaik dan terburuk\n",
        "3. Karena cabang bertambah setiap bulannya, maka perlu dicek umur cabang dan performa mei\n",
        "4. Mencari cabang terburuk untuk masing - masing kelompok umur"
      ]
    },
    {
      "cell_type": "markdown",
      "metadata": {
        "_uuid": "d425c1c7-9556-4c48-9be2-0afad8aad554",
        "_cell_guid": "553a27e4-0695-4c3a-8744-25050c3f7458",
        "trusted": true,
        "id": "DQVFpeLLxQDF",
        "colab_type": "text"
      },
      "source": [
        "## Load Dataset"
      ]
    },
    {
      "cell_type": "code",
      "metadata": {
        "trusted": true,
        "id": "qF3E7BfDxQDH",
        "colab_type": "code",
        "colab": {
          "base_uri": "https://localhost:8080/",
          "height": 136
        },
        "outputId": "339f22b9-ee5f-4dca-84f6-5a0905411367"
      },
      "source": [
        "# Menyimpan hasil pada dataframe df_loan\n",
        "# Menggunakan fungsi read.csv() untuk membaca file csv\n",
        "# stringsAsFactors ini berguna agar data-data yang bertipe character tidak diubah menjadi factor\n",
        "df_loan <- read.csv('https://dqlab-dataset.s3-ap-southeast-1.amazonaws.com/loan_disbursement.csv', stringsAsFactors = F)\n",
        "# fungsi glimpse dari package dplyr(package yang paling sering digunakan dalam analisis data) untuk melihat data\n",
        "# karena hanya pakai 1 fungsi, kita bisa memanggilnya tanpa load package\n",
        "dplyr::glimpse(df_loan)"
      ],
      "execution_count": 2,
      "outputs": [
        {
          "output_type": "stream",
          "text": [
            "Rows: 9,754\n",
            "Columns: 5\n",
            "$ loan_id      \u001b[3m\u001b[90m<int>\u001b[39m\u001b[23m 1, 2, 3, 4, 5, 6, 7, 8, 9, 10, 11, 12, 13, 14, 15, 16, 1…\n",
            "$ tanggal_cair \u001b[3m\u001b[90m<chr>\u001b[39m\u001b[23m \"2020-01-06\", \"2020-01-06\", \"2020-01-06\", \"2020-01-06\", …\n",
            "$ cabang       \u001b[3m\u001b[90m<chr>\u001b[39m\u001b[23m \"AA\", \"AA\", \"AA\", \"AA\", \"AA\", \"AA\", \"AB\", \"AB\", \"AB\", \"A…\n",
            "$ agen         \u001b[3m\u001b[90m<chr>\u001b[39m\u001b[23m \"AA-1\", \"AA-1\", \"AA-1\", \"AA-2\", \"AA-2\", \"AA-2\", \"AB-1\", …\n",
            "$ amount       \u001b[3m\u001b[90m<int>\u001b[39m\u001b[23m 320000, 440000, 200000, 430000, 360000, 220000, 320000, …\n"
          ],
          "name": "stdout"
        }
      ]
    },
    {
      "cell_type": "markdown",
      "metadata": {
        "id": "LjHXyyqcxQDO",
        "colab_type": "text"
      },
      "source": [
        "Terlihat bahwa ada 9,754 baris data (Observations) dan ada 5 kolom (Variables),\n",
        "* loan_id : unik ID dari data ini\n",
        "* tanggal_cair : tanggal uang diberikan kepada mitra\n",
        "* cabang : lokasi agen bekerja dan tempat mitra terdaftar\n",
        "* agen : petugas lapangan yang melakukan pencairan\n",
        "* amount : jumlah uang yang dicairkan"
      ]
    },
    {
      "cell_type": "code",
      "metadata": {
        "_uuid": "16690ca8-a748-4431-b583-43dbf14caf87",
        "_cell_guid": "91de745e-96af-4ab9-ab0a-65c4b0d3bdde",
        "trusted": true,
        "id": "189GWySCxQDP",
        "colab_type": "code",
        "colab": {
          "base_uri": "https://localhost:8080/",
          "height": 1000
        },
        "outputId": "0989d6bd-7dd6-4cc5-8e46-86e0f92aa0a7"
      },
      "source": [
        "df_loan"
      ],
      "execution_count": 3,
      "outputs": [
        {
          "output_type": "display_data",
          "data": {
            "text/plain": [
              "     loan_id tanggal_cair cabang agen amount\n",
              "1     1      2020-01-06   AA     AA-1 320000\n",
              "2     2      2020-01-06   AA     AA-1 440000\n",
              "3     3      2020-01-06   AA     AA-1 200000\n",
              "4     4      2020-01-06   AA     AA-2 430000\n",
              "5     5      2020-01-06   AA     AA-2 360000\n",
              "6     6      2020-01-06   AA     AA-2 220000\n",
              "7     7      2020-01-06   AB     AB-1 320000\n",
              "8     8      2020-01-06   AB     AB-1 470000\n",
              "9     9      2020-01-06   AB     AB-1 470000\n",
              "10   10      2020-01-06   AB     AB-2 350000\n",
              "11   11      2020-01-06   AB     AB-2 360000\n",
              "12   12      2020-01-06   AB     AB-2 250000\n",
              "13   13      2020-01-06   AC     AC-1 290000\n",
              "14   14      2020-01-06   AC     AC-1 330000\n",
              "15   15      2020-01-06   AC     AC-1 240000\n",
              "16   16      2020-01-06   AC     AC-2 300000\n",
              "17   17      2020-01-06   AC     AC-2 210000\n",
              "18   18      2020-01-06   AC     AC-2 190000\n",
              "19   19      2020-01-06   AD     AD-1 280000\n",
              "20   20      2020-01-06   AD     AD-1 290000\n",
              "21   21      2020-01-06   AD     AD-1 230000\n",
              "22   22      2020-01-06   AD     AD-2 130000\n",
              "23   23      2020-01-06   AD     AD-2 350000\n",
              "24   24      2020-01-06   AD     AD-2 210000\n",
              "25   25      2020-01-07   AA     AA-1 280000\n",
              "26   26      2020-01-07   AA     AA-1 350000\n",
              "27   27      2020-01-07   AA     AA-1 400000\n",
              "28   28      2020-01-07   AA     AA-2 200000\n",
              "29   29      2020-01-07   AA     AA-2 140000\n",
              "30   30      2020-01-07   AA     AA-2 310000\n",
              "⋮    ⋮       ⋮            ⋮      ⋮    ⋮     \n",
              "9725 9725    2020-05-29   AQ     AQ-2 350000\n",
              "9726 9726    2020-05-29   AR     AR-1 360000\n",
              "9727 9727    2020-05-29   AR     AR-1 370000\n",
              "9728 9728    2020-05-29   AR     AR-1 200000\n",
              "9729 9729    2020-05-29   AR     AR-1 340000\n",
              "9730 9730    2020-05-29   AR     AR-2 430000\n",
              "9731 9731    2020-05-29   AR     AR-2 540000\n",
              "9732 9732    2020-05-29   AR     AR-2 140000\n",
              "9733 9733    2020-05-29   AR     AR-2 400000\n",
              "9734 9734    2020-05-29   AS     AS-1 340000\n",
              "9735 9735    2020-05-29   AS     AS-1 390000\n",
              "9736 9736    2020-05-29   AS     AS-1 280000\n",
              "9737 9737    2020-05-29   AS     AS-1 270000\n",
              "9738 9738    2020-05-29   AS     AS-2 220000\n",
              "9739 9739    2020-05-29   AS     AS-2 360000\n",
              "9740 9740    2020-05-29   AS     AS-2 310000\n",
              "9741 9741    2020-05-29   AT     AT-1 300000\n",
              "9742 9742    2020-05-29   AT     AT-1 300000\n",
              "9743 9743    2020-05-29   AT     AT-1 140000\n",
              "9744 9744    2020-05-29   AT     AT-2 260000\n",
              "9745 9745    2020-05-29   AT     AT-2 310000\n",
              "9746 9746    2020-05-29   AT     AT-2 330000\n",
              "9747 9747    2020-05-29   AU     AU-1 330000\n",
              "9748 9748    2020-05-29   AU     AU-1 420000\n",
              "9749 9749    2020-05-29   AU     AU-1 220000\n",
              "9750 9750    2020-05-29   AV     AV-1 480000\n",
              "9751 9751    2020-05-29   AV     AV-1 350000\n",
              "9752 9752    2020-05-29   AV     AV-1 310000\n",
              "9753 9753    2020-05-29   AV     AV-2 300000\n",
              "9754 9754    2020-05-29   AV     AV-2 470000"
            ],
            "text/latex": "A data.frame: 9754 × 5\n\\begin{tabular}{lllll}\n loan\\_id & tanggal\\_cair & cabang & agen & amount\\\\\n <int> & <chr> & <chr> & <chr> & <int>\\\\\n\\hline\n\t  1 & 2020-01-06 & AA & AA-1 & 320000\\\\\n\t  2 & 2020-01-06 & AA & AA-1 & 440000\\\\\n\t  3 & 2020-01-06 & AA & AA-1 & 200000\\\\\n\t  4 & 2020-01-06 & AA & AA-2 & 430000\\\\\n\t  5 & 2020-01-06 & AA & AA-2 & 360000\\\\\n\t  6 & 2020-01-06 & AA & AA-2 & 220000\\\\\n\t  7 & 2020-01-06 & AB & AB-1 & 320000\\\\\n\t  8 & 2020-01-06 & AB & AB-1 & 470000\\\\\n\t  9 & 2020-01-06 & AB & AB-1 & 470000\\\\\n\t 10 & 2020-01-06 & AB & AB-2 & 350000\\\\\n\t 11 & 2020-01-06 & AB & AB-2 & 360000\\\\\n\t 12 & 2020-01-06 & AB & AB-2 & 250000\\\\\n\t 13 & 2020-01-06 & AC & AC-1 & 290000\\\\\n\t 14 & 2020-01-06 & AC & AC-1 & 330000\\\\\n\t 15 & 2020-01-06 & AC & AC-1 & 240000\\\\\n\t 16 & 2020-01-06 & AC & AC-2 & 300000\\\\\n\t 17 & 2020-01-06 & AC & AC-2 & 210000\\\\\n\t 18 & 2020-01-06 & AC & AC-2 & 190000\\\\\n\t 19 & 2020-01-06 & AD & AD-1 & 280000\\\\\n\t 20 & 2020-01-06 & AD & AD-1 & 290000\\\\\n\t 21 & 2020-01-06 & AD & AD-1 & 230000\\\\\n\t 22 & 2020-01-06 & AD & AD-2 & 130000\\\\\n\t 23 & 2020-01-06 & AD & AD-2 & 350000\\\\\n\t 24 & 2020-01-06 & AD & AD-2 & 210000\\\\\n\t 25 & 2020-01-07 & AA & AA-1 & 280000\\\\\n\t 26 & 2020-01-07 & AA & AA-1 & 350000\\\\\n\t 27 & 2020-01-07 & AA & AA-1 & 400000\\\\\n\t 28 & 2020-01-07 & AA & AA-2 & 200000\\\\\n\t 29 & 2020-01-07 & AA & AA-2 & 140000\\\\\n\t 30 & 2020-01-07 & AA & AA-2 & 310000\\\\\n\t ⋮ & ⋮ & ⋮ & ⋮ & ⋮\\\\\n\t 9725 & 2020-05-29 & AQ & AQ-2 & 350000\\\\\n\t 9726 & 2020-05-29 & AR & AR-1 & 360000\\\\\n\t 9727 & 2020-05-29 & AR & AR-1 & 370000\\\\\n\t 9728 & 2020-05-29 & AR & AR-1 & 200000\\\\\n\t 9729 & 2020-05-29 & AR & AR-1 & 340000\\\\\n\t 9730 & 2020-05-29 & AR & AR-2 & 430000\\\\\n\t 9731 & 2020-05-29 & AR & AR-2 & 540000\\\\\n\t 9732 & 2020-05-29 & AR & AR-2 & 140000\\\\\n\t 9733 & 2020-05-29 & AR & AR-2 & 400000\\\\\n\t 9734 & 2020-05-29 & AS & AS-1 & 340000\\\\\n\t 9735 & 2020-05-29 & AS & AS-1 & 390000\\\\\n\t 9736 & 2020-05-29 & AS & AS-1 & 280000\\\\\n\t 9737 & 2020-05-29 & AS & AS-1 & 270000\\\\\n\t 9738 & 2020-05-29 & AS & AS-2 & 220000\\\\\n\t 9739 & 2020-05-29 & AS & AS-2 & 360000\\\\\n\t 9740 & 2020-05-29 & AS & AS-2 & 310000\\\\\n\t 9741 & 2020-05-29 & AT & AT-1 & 300000\\\\\n\t 9742 & 2020-05-29 & AT & AT-1 & 300000\\\\\n\t 9743 & 2020-05-29 & AT & AT-1 & 140000\\\\\n\t 9744 & 2020-05-29 & AT & AT-2 & 260000\\\\\n\t 9745 & 2020-05-29 & AT & AT-2 & 310000\\\\\n\t 9746 & 2020-05-29 & AT & AT-2 & 330000\\\\\n\t 9747 & 2020-05-29 & AU & AU-1 & 330000\\\\\n\t 9748 & 2020-05-29 & AU & AU-1 & 420000\\\\\n\t 9749 & 2020-05-29 & AU & AU-1 & 220000\\\\\n\t 9750 & 2020-05-29 & AV & AV-1 & 480000\\\\\n\t 9751 & 2020-05-29 & AV & AV-1 & 350000\\\\\n\t 9752 & 2020-05-29 & AV & AV-1 & 310000\\\\\n\t 9753 & 2020-05-29 & AV & AV-2 & 300000\\\\\n\t 9754 & 2020-05-29 & AV & AV-2 & 470000\\\\\n\\end{tabular}\n",
            "text/markdown": "\nA data.frame: 9754 × 5\n\n| loan_id &lt;int&gt; | tanggal_cair &lt;chr&gt; | cabang &lt;chr&gt; | agen &lt;chr&gt; | amount &lt;int&gt; |\n|---|---|---|---|---|\n|  1 | 2020-01-06 | AA | AA-1 | 320000 |\n|  2 | 2020-01-06 | AA | AA-1 | 440000 |\n|  3 | 2020-01-06 | AA | AA-1 | 200000 |\n|  4 | 2020-01-06 | AA | AA-2 | 430000 |\n|  5 | 2020-01-06 | AA | AA-2 | 360000 |\n|  6 | 2020-01-06 | AA | AA-2 | 220000 |\n|  7 | 2020-01-06 | AB | AB-1 | 320000 |\n|  8 | 2020-01-06 | AB | AB-1 | 470000 |\n|  9 | 2020-01-06 | AB | AB-1 | 470000 |\n| 10 | 2020-01-06 | AB | AB-2 | 350000 |\n| 11 | 2020-01-06 | AB | AB-2 | 360000 |\n| 12 | 2020-01-06 | AB | AB-2 | 250000 |\n| 13 | 2020-01-06 | AC | AC-1 | 290000 |\n| 14 | 2020-01-06 | AC | AC-1 | 330000 |\n| 15 | 2020-01-06 | AC | AC-1 | 240000 |\n| 16 | 2020-01-06 | AC | AC-2 | 300000 |\n| 17 | 2020-01-06 | AC | AC-2 | 210000 |\n| 18 | 2020-01-06 | AC | AC-2 | 190000 |\n| 19 | 2020-01-06 | AD | AD-1 | 280000 |\n| 20 | 2020-01-06 | AD | AD-1 | 290000 |\n| 21 | 2020-01-06 | AD | AD-1 | 230000 |\n| 22 | 2020-01-06 | AD | AD-2 | 130000 |\n| 23 | 2020-01-06 | AD | AD-2 | 350000 |\n| 24 | 2020-01-06 | AD | AD-2 | 210000 |\n| 25 | 2020-01-07 | AA | AA-1 | 280000 |\n| 26 | 2020-01-07 | AA | AA-1 | 350000 |\n| 27 | 2020-01-07 | AA | AA-1 | 400000 |\n| 28 | 2020-01-07 | AA | AA-2 | 200000 |\n| 29 | 2020-01-07 | AA | AA-2 | 140000 |\n| 30 | 2020-01-07 | AA | AA-2 | 310000 |\n| ⋮ | ⋮ | ⋮ | ⋮ | ⋮ |\n| 9725 | 2020-05-29 | AQ | AQ-2 | 350000 |\n| 9726 | 2020-05-29 | AR | AR-1 | 360000 |\n| 9727 | 2020-05-29 | AR | AR-1 | 370000 |\n| 9728 | 2020-05-29 | AR | AR-1 | 200000 |\n| 9729 | 2020-05-29 | AR | AR-1 | 340000 |\n| 9730 | 2020-05-29 | AR | AR-2 | 430000 |\n| 9731 | 2020-05-29 | AR | AR-2 | 540000 |\n| 9732 | 2020-05-29 | AR | AR-2 | 140000 |\n| 9733 | 2020-05-29 | AR | AR-2 | 400000 |\n| 9734 | 2020-05-29 | AS | AS-1 | 340000 |\n| 9735 | 2020-05-29 | AS | AS-1 | 390000 |\n| 9736 | 2020-05-29 | AS | AS-1 | 280000 |\n| 9737 | 2020-05-29 | AS | AS-1 | 270000 |\n| 9738 | 2020-05-29 | AS | AS-2 | 220000 |\n| 9739 | 2020-05-29 | AS | AS-2 | 360000 |\n| 9740 | 2020-05-29 | AS | AS-2 | 310000 |\n| 9741 | 2020-05-29 | AT | AT-1 | 300000 |\n| 9742 | 2020-05-29 | AT | AT-1 | 300000 |\n| 9743 | 2020-05-29 | AT | AT-1 | 140000 |\n| 9744 | 2020-05-29 | AT | AT-2 | 260000 |\n| 9745 | 2020-05-29 | AT | AT-2 | 310000 |\n| 9746 | 2020-05-29 | AT | AT-2 | 330000 |\n| 9747 | 2020-05-29 | AU | AU-1 | 330000 |\n| 9748 | 2020-05-29 | AU | AU-1 | 420000 |\n| 9749 | 2020-05-29 | AU | AU-1 | 220000 |\n| 9750 | 2020-05-29 | AV | AV-1 | 480000 |\n| 9751 | 2020-05-29 | AV | AV-1 | 350000 |\n| 9752 | 2020-05-29 | AV | AV-1 | 310000 |\n| 9753 | 2020-05-29 | AV | AV-2 | 300000 |\n| 9754 | 2020-05-29 | AV | AV-2 | 470000 |\n\n",
            "text/html": [
              "<table>\n",
              "<caption>A data.frame: 9754 × 5</caption>\n",
              "<thead>\n",
              "\t<tr><th scope=col>loan_id</th><th scope=col>tanggal_cair</th><th scope=col>cabang</th><th scope=col>agen</th><th scope=col>amount</th></tr>\n",
              "\t<tr><th scope=col>&lt;int&gt;</th><th scope=col>&lt;chr&gt;</th><th scope=col>&lt;chr&gt;</th><th scope=col>&lt;chr&gt;</th><th scope=col>&lt;int&gt;</th></tr>\n",
              "</thead>\n",
              "<tbody>\n",
              "\t<tr><td> 1</td><td>2020-01-06</td><td>AA</td><td>AA-1</td><td>320000</td></tr>\n",
              "\t<tr><td> 2</td><td>2020-01-06</td><td>AA</td><td>AA-1</td><td>440000</td></tr>\n",
              "\t<tr><td> 3</td><td>2020-01-06</td><td>AA</td><td>AA-1</td><td>200000</td></tr>\n",
              "\t<tr><td> 4</td><td>2020-01-06</td><td>AA</td><td>AA-2</td><td>430000</td></tr>\n",
              "\t<tr><td> 5</td><td>2020-01-06</td><td>AA</td><td>AA-2</td><td>360000</td></tr>\n",
              "\t<tr><td> 6</td><td>2020-01-06</td><td>AA</td><td>AA-2</td><td>220000</td></tr>\n",
              "\t<tr><td> 7</td><td>2020-01-06</td><td>AB</td><td>AB-1</td><td>320000</td></tr>\n",
              "\t<tr><td> 8</td><td>2020-01-06</td><td>AB</td><td>AB-1</td><td>470000</td></tr>\n",
              "\t<tr><td> 9</td><td>2020-01-06</td><td>AB</td><td>AB-1</td><td>470000</td></tr>\n",
              "\t<tr><td>10</td><td>2020-01-06</td><td>AB</td><td>AB-2</td><td>350000</td></tr>\n",
              "\t<tr><td>11</td><td>2020-01-06</td><td>AB</td><td>AB-2</td><td>360000</td></tr>\n",
              "\t<tr><td>12</td><td>2020-01-06</td><td>AB</td><td>AB-2</td><td>250000</td></tr>\n",
              "\t<tr><td>13</td><td>2020-01-06</td><td>AC</td><td>AC-1</td><td>290000</td></tr>\n",
              "\t<tr><td>14</td><td>2020-01-06</td><td>AC</td><td>AC-1</td><td>330000</td></tr>\n",
              "\t<tr><td>15</td><td>2020-01-06</td><td>AC</td><td>AC-1</td><td>240000</td></tr>\n",
              "\t<tr><td>16</td><td>2020-01-06</td><td>AC</td><td>AC-2</td><td>300000</td></tr>\n",
              "\t<tr><td>17</td><td>2020-01-06</td><td>AC</td><td>AC-2</td><td>210000</td></tr>\n",
              "\t<tr><td>18</td><td>2020-01-06</td><td>AC</td><td>AC-2</td><td>190000</td></tr>\n",
              "\t<tr><td>19</td><td>2020-01-06</td><td>AD</td><td>AD-1</td><td>280000</td></tr>\n",
              "\t<tr><td>20</td><td>2020-01-06</td><td>AD</td><td>AD-1</td><td>290000</td></tr>\n",
              "\t<tr><td>21</td><td>2020-01-06</td><td>AD</td><td>AD-1</td><td>230000</td></tr>\n",
              "\t<tr><td>22</td><td>2020-01-06</td><td>AD</td><td>AD-2</td><td>130000</td></tr>\n",
              "\t<tr><td>23</td><td>2020-01-06</td><td>AD</td><td>AD-2</td><td>350000</td></tr>\n",
              "\t<tr><td>24</td><td>2020-01-06</td><td>AD</td><td>AD-2</td><td>210000</td></tr>\n",
              "\t<tr><td>25</td><td>2020-01-07</td><td>AA</td><td>AA-1</td><td>280000</td></tr>\n",
              "\t<tr><td>26</td><td>2020-01-07</td><td>AA</td><td>AA-1</td><td>350000</td></tr>\n",
              "\t<tr><td>27</td><td>2020-01-07</td><td>AA</td><td>AA-1</td><td>400000</td></tr>\n",
              "\t<tr><td>28</td><td>2020-01-07</td><td>AA</td><td>AA-2</td><td>200000</td></tr>\n",
              "\t<tr><td>29</td><td>2020-01-07</td><td>AA</td><td>AA-2</td><td>140000</td></tr>\n",
              "\t<tr><td>30</td><td>2020-01-07</td><td>AA</td><td>AA-2</td><td>310000</td></tr>\n",
              "\t<tr><td>⋮</td><td>⋮</td><td>⋮</td><td>⋮</td><td>⋮</td></tr>\n",
              "\t<tr><td>9725</td><td>2020-05-29</td><td>AQ</td><td>AQ-2</td><td>350000</td></tr>\n",
              "\t<tr><td>9726</td><td>2020-05-29</td><td>AR</td><td>AR-1</td><td>360000</td></tr>\n",
              "\t<tr><td>9727</td><td>2020-05-29</td><td>AR</td><td>AR-1</td><td>370000</td></tr>\n",
              "\t<tr><td>9728</td><td>2020-05-29</td><td>AR</td><td>AR-1</td><td>200000</td></tr>\n",
              "\t<tr><td>9729</td><td>2020-05-29</td><td>AR</td><td>AR-1</td><td>340000</td></tr>\n",
              "\t<tr><td>9730</td><td>2020-05-29</td><td>AR</td><td>AR-2</td><td>430000</td></tr>\n",
              "\t<tr><td>9731</td><td>2020-05-29</td><td>AR</td><td>AR-2</td><td>540000</td></tr>\n",
              "\t<tr><td>9732</td><td>2020-05-29</td><td>AR</td><td>AR-2</td><td>140000</td></tr>\n",
              "\t<tr><td>9733</td><td>2020-05-29</td><td>AR</td><td>AR-2</td><td>400000</td></tr>\n",
              "\t<tr><td>9734</td><td>2020-05-29</td><td>AS</td><td>AS-1</td><td>340000</td></tr>\n",
              "\t<tr><td>9735</td><td>2020-05-29</td><td>AS</td><td>AS-1</td><td>390000</td></tr>\n",
              "\t<tr><td>9736</td><td>2020-05-29</td><td>AS</td><td>AS-1</td><td>280000</td></tr>\n",
              "\t<tr><td>9737</td><td>2020-05-29</td><td>AS</td><td>AS-1</td><td>270000</td></tr>\n",
              "\t<tr><td>9738</td><td>2020-05-29</td><td>AS</td><td>AS-2</td><td>220000</td></tr>\n",
              "\t<tr><td>9739</td><td>2020-05-29</td><td>AS</td><td>AS-2</td><td>360000</td></tr>\n",
              "\t<tr><td>9740</td><td>2020-05-29</td><td>AS</td><td>AS-2</td><td>310000</td></tr>\n",
              "\t<tr><td>9741</td><td>2020-05-29</td><td>AT</td><td>AT-1</td><td>300000</td></tr>\n",
              "\t<tr><td>9742</td><td>2020-05-29</td><td>AT</td><td>AT-1</td><td>300000</td></tr>\n",
              "\t<tr><td>9743</td><td>2020-05-29</td><td>AT</td><td>AT-1</td><td>140000</td></tr>\n",
              "\t<tr><td>9744</td><td>2020-05-29</td><td>AT</td><td>AT-2</td><td>260000</td></tr>\n",
              "\t<tr><td>9745</td><td>2020-05-29</td><td>AT</td><td>AT-2</td><td>310000</td></tr>\n",
              "\t<tr><td>9746</td><td>2020-05-29</td><td>AT</td><td>AT-2</td><td>330000</td></tr>\n",
              "\t<tr><td>9747</td><td>2020-05-29</td><td>AU</td><td>AU-1</td><td>330000</td></tr>\n",
              "\t<tr><td>9748</td><td>2020-05-29</td><td>AU</td><td>AU-1</td><td>420000</td></tr>\n",
              "\t<tr><td>9749</td><td>2020-05-29</td><td>AU</td><td>AU-1</td><td>220000</td></tr>\n",
              "\t<tr><td>9750</td><td>2020-05-29</td><td>AV</td><td>AV-1</td><td>480000</td></tr>\n",
              "\t<tr><td>9751</td><td>2020-05-29</td><td>AV</td><td>AV-1</td><td>350000</td></tr>\n",
              "\t<tr><td>9752</td><td>2020-05-29</td><td>AV</td><td>AV-1</td><td>310000</td></tr>\n",
              "\t<tr><td>9753</td><td>2020-05-29</td><td>AV</td><td>AV-2</td><td>300000</td></tr>\n",
              "\t<tr><td>9754</td><td>2020-05-29</td><td>AV</td><td>AV-2</td><td>470000</td></tr>\n",
              "</tbody>\n",
              "</table>\n"
            ]
          },
          "metadata": {
            "tags": []
          }
        }
      ]
    },
    {
      "cell_type": "markdown",
      "metadata": {
        "_uuid": "c2058c4c-80a4-486e-81ce-9a9124f039bc",
        "_cell_guid": "20fcfad1-9e5a-4383-83ac-93b9a23289ac",
        "trusted": true,
        "id": "dTEGIowyxQDm",
        "colab_type": "text"
      },
      "source": [
        "# Summary data bulan lalu (Mei 2020)\n",
        "## Memfilter data bulan Mei 2020, dan jumlahkan data per cabang"
      ]
    },
    {
      "cell_type": "code",
      "metadata": {
        "_uuid": "355ccf7c-a6ff-4991-9f5d-1835da6c489b",
        "_cell_guid": "466a338e-0039-4bf9-8293-c813fdd3da05",
        "trusted": true,
        "id": "xV1f1QsfxQDo",
        "colab_type": "code",
        "colab": {
          "base_uri": "https://localhost:8080/",
          "height": 812
        },
        "outputId": "d8830fde-b723-4df4-a308-b10896c798b5"
      },
      "source": [
        "# Gunakan pipe %>% untuk menyambungkan fungsi.\n",
        "# Package yang digunakan dplyr sering digunakan dalam analisis data, sangat membantu dalam manipulasi data\n",
        "library(dplyr)\n",
        "# Menyimpan hasil pada dataframe df_loan_mei\n",
        "df_loan_mei <- df_loan %>% \n",
        "  # Memfilter data dengan tanggal cair lebih besar sama dengan 1 mei dan lebih kecil sama dengan 31 mei\n",
        "  filter(tanggal_cair >= '2020-05-01', tanggal_cair <= '2020-05-31') %>%\n",
        "  # Kelompokkan data berdasarkan cabang\n",
        "  group_by(cabang) %>%\n",
        "  # Fungsi summarise() untuk mengubah beberapa nilai menjadi satu ringkasan nilai\n",
        "  # Menghitung total amount dengan menjumlahkan variabel amount\n",
        "  summarise(total_amount = sum(amount))\n",
        "# Tampilkan hasil \n",
        "df_loan_mei"
      ],
      "execution_count": 4,
      "outputs": [
        {
          "output_type": "stream",
          "text": [
            "\n",
            "Attaching package: ‘dplyr’\n",
            "\n",
            "\n",
            "The following objects are masked from ‘package:stats’:\n",
            "\n",
            "    filter, lag\n",
            "\n",
            "\n",
            "The following objects are masked from ‘package:base’:\n",
            "\n",
            "    intersect, setdiff, setequal, union\n",
            "\n",
            "\n",
            "`summarise()` ungrouping output (override with `.groups` argument)\n",
            "\n"
          ],
          "name": "stderr"
        },
        {
          "output_type": "display_data",
          "data": {
            "text/plain": [
              "   cabang total_amount\n",
              "1  AA     75710000    \n",
              "2  AB     81440000    \n",
              "3  AC     83990000    \n",
              "4  AD     76080000    \n",
              "5  AE     54200000    \n",
              "6  AF     68040000    \n",
              "7  AG     74080000    \n",
              "8  AH     73840000    \n",
              "9  AI     46640000    \n",
              "10 AJ     43580000    \n",
              "11 AK     44590000    \n",
              "12 AL     40650000    \n",
              "13 AM     44010000    \n",
              "14 AN     39700000    \n",
              "15 AO     39120000    \n",
              "16 AP     44740000    \n",
              "17 AQ     39190000    \n",
              "18 AR     44230000    \n",
              "19 AS     31740000    \n",
              "20 AT     34840000    \n",
              "21 AU     35610000    \n",
              "22 AV     30280000    "
            ],
            "text/latex": "A tibble: 22 × 2\n\\begin{tabular}{ll}\n cabang & total\\_amount\\\\\n <chr> & <int>\\\\\n\\hline\n\t AA & 75710000\\\\\n\t AB & 81440000\\\\\n\t AC & 83990000\\\\\n\t AD & 76080000\\\\\n\t AE & 54200000\\\\\n\t AF & 68040000\\\\\n\t AG & 74080000\\\\\n\t AH & 73840000\\\\\n\t AI & 46640000\\\\\n\t AJ & 43580000\\\\\n\t AK & 44590000\\\\\n\t AL & 40650000\\\\\n\t AM & 44010000\\\\\n\t AN & 39700000\\\\\n\t AO & 39120000\\\\\n\t AP & 44740000\\\\\n\t AQ & 39190000\\\\\n\t AR & 44230000\\\\\n\t AS & 31740000\\\\\n\t AT & 34840000\\\\\n\t AU & 35610000\\\\\n\t AV & 30280000\\\\\n\\end{tabular}\n",
            "text/markdown": "\nA tibble: 22 × 2\n\n| cabang &lt;chr&gt; | total_amount &lt;int&gt; |\n|---|---|\n| AA | 75710000 |\n| AB | 81440000 |\n| AC | 83990000 |\n| AD | 76080000 |\n| AE | 54200000 |\n| AF | 68040000 |\n| AG | 74080000 |\n| AH | 73840000 |\n| AI | 46640000 |\n| AJ | 43580000 |\n| AK | 44590000 |\n| AL | 40650000 |\n| AM | 44010000 |\n| AN | 39700000 |\n| AO | 39120000 |\n| AP | 44740000 |\n| AQ | 39190000 |\n| AR | 44230000 |\n| AS | 31740000 |\n| AT | 34840000 |\n| AU | 35610000 |\n| AV | 30280000 |\n\n",
            "text/html": [
              "<table>\n",
              "<caption>A tibble: 22 × 2</caption>\n",
              "<thead>\n",
              "\t<tr><th scope=col>cabang</th><th scope=col>total_amount</th></tr>\n",
              "\t<tr><th scope=col>&lt;chr&gt;</th><th scope=col>&lt;int&gt;</th></tr>\n",
              "</thead>\n",
              "<tbody>\n",
              "\t<tr><td>AA</td><td>75710000</td></tr>\n",
              "\t<tr><td>AB</td><td>81440000</td></tr>\n",
              "\t<tr><td>AC</td><td>83990000</td></tr>\n",
              "\t<tr><td>AD</td><td>76080000</td></tr>\n",
              "\t<tr><td>AE</td><td>54200000</td></tr>\n",
              "\t<tr><td>AF</td><td>68040000</td></tr>\n",
              "\t<tr><td>AG</td><td>74080000</td></tr>\n",
              "\t<tr><td>AH</td><td>73840000</td></tr>\n",
              "\t<tr><td>AI</td><td>46640000</td></tr>\n",
              "\t<tr><td>AJ</td><td>43580000</td></tr>\n",
              "\t<tr><td>AK</td><td>44590000</td></tr>\n",
              "\t<tr><td>AL</td><td>40650000</td></tr>\n",
              "\t<tr><td>AM</td><td>44010000</td></tr>\n",
              "\t<tr><td>AN</td><td>39700000</td></tr>\n",
              "\t<tr><td>AO</td><td>39120000</td></tr>\n",
              "\t<tr><td>AP</td><td>44740000</td></tr>\n",
              "\t<tr><td>AQ</td><td>39190000</td></tr>\n",
              "\t<tr><td>AR</td><td>44230000</td></tr>\n",
              "\t<tr><td>AS</td><td>31740000</td></tr>\n",
              "\t<tr><td>AT</td><td>34840000</td></tr>\n",
              "\t<tr><td>AU</td><td>35610000</td></tr>\n",
              "\t<tr><td>AV</td><td>30280000</td></tr>\n",
              "</tbody>\n",
              "</table>\n"
            ]
          },
          "metadata": {
            "tags": []
          }
        }
      ]
    },
    {
      "cell_type": "markdown",
      "metadata": {
        "_uuid": "a174aade-3723-4c83-b01e-d3412c3cd593",
        "_cell_guid": "a66a0bf0-46aa-45e2-b5d1-6674556f5e4e",
        "trusted": true,
        "id": "4K2zbw5LxQEv",
        "colab_type": "text"
      },
      "source": [
        "## Tampilkan data 5 cabang dengan total amount paling besar"
      ]
    },
    {
      "cell_type": "code",
      "metadata": {
        "_uuid": "fe8a94ee-53b1-42f1-a792-c792ff3a696c",
        "_cell_guid": "3db29b56-129b-460c-935c-195ff2162b47",
        "trusted": true,
        "id": "FLbY-Yd4xQEw",
        "colab_type": "code",
        "colab": {
          "base_uri": "https://localhost:8080/",
          "height": 183
        },
        "outputId": "c5e480ec-1ee0-44b8-856c-e240bf83c691"
      },
      "source": [
        "library(dplyr)\n",
        "# Package Scales igunakan untuk memformat value data numerik menjadi format yang mudah dibaca\n",
        "library(scales)\n",
        "# Menggunakan dataframe df_loan_mei dari hasil sebelumnya\n",
        "df_loan_mei %>%\n",
        "  # Fungsi arrange() untuk mengurutkan baris data default secara ascending(menurun)\n",
        "  # Mengurutkan data total_amount dari terbesar\n",
        "  arrange(desc(total_amount)) %>% \n",
        "  # Fungsi mutate() untuk  membuat variabel baru berdasarkan variabel yang ada\n",
        "  # Fungsi comma() mengubah numerik menjadi ada simbol ribuan\n",
        "  mutate(total_amount = comma(total_amount)) %>%\n",
        "  # Menampilkan 5 data teratas\n",
        "  head(5)"
      ],
      "execution_count": 5,
      "outputs": [
        {
          "output_type": "display_data",
          "data": {
            "text/plain": [
              "  cabang total_amount\n",
              "1 AC     83,990,000  \n",
              "2 AB     81,440,000  \n",
              "3 AD     76,080,000  \n",
              "4 AA     75,710,000  \n",
              "5 AG     74,080,000  "
            ],
            "text/latex": "A tibble: 5 × 2\n\\begin{tabular}{ll}\n cabang & total\\_amount\\\\\n <chr> & <chr>\\\\\n\\hline\n\t AC & 83,990,000\\\\\n\t AB & 81,440,000\\\\\n\t AD & 76,080,000\\\\\n\t AA & 75,710,000\\\\\n\t AG & 74,080,000\\\\\n\\end{tabular}\n",
            "text/markdown": "\nA tibble: 5 × 2\n\n| cabang &lt;chr&gt; | total_amount &lt;chr&gt; |\n|---|---|\n| AC | 83,990,000 |\n| AB | 81,440,000 |\n| AD | 76,080,000 |\n| AA | 75,710,000 |\n| AG | 74,080,000 |\n\n",
            "text/html": [
              "<table>\n",
              "<caption>A tibble: 5 × 2</caption>\n",
              "<thead>\n",
              "\t<tr><th scope=col>cabang</th><th scope=col>total_amount</th></tr>\n",
              "\t<tr><th scope=col>&lt;chr&gt;</th><th scope=col>&lt;chr&gt;</th></tr>\n",
              "</thead>\n",
              "<tbody>\n",
              "\t<tr><td>AC</td><td>83,990,000</td></tr>\n",
              "\t<tr><td>AB</td><td>81,440,000</td></tr>\n",
              "\t<tr><td>AD</td><td>76,080,000</td></tr>\n",
              "\t<tr><td>AA</td><td>75,710,000</td></tr>\n",
              "\t<tr><td>AG</td><td>74,080,000</td></tr>\n",
              "</tbody>\n",
              "</table>\n"
            ]
          },
          "metadata": {
            "tags": []
          }
        }
      ]
    },
    {
      "cell_type": "markdown",
      "metadata": {
        "_uuid": "db6e7882-f2fb-49e8-88f5-86f381a6e686",
        "_cell_guid": "0be3faba-fd54-4e82-a52a-b1fcc00e4ca7",
        "trusted": true,
        "id": "0l-7XsC8xQE3",
        "colab_type": "text"
      },
      "source": [
        "## Tampilkan data 5 cabang dengan total amount paling kecil"
      ]
    },
    {
      "cell_type": "code",
      "metadata": {
        "_uuid": "175bc427-be16-47a3-976b-c42230421688",
        "_cell_guid": "a30c4dd1-f4db-4368-a9ee-2bf521b0224b",
        "trusted": true,
        "id": "FI_zbH-NxQE4",
        "colab_type": "code",
        "colab": {
          "base_uri": "https://localhost:8080/",
          "height": 183
        },
        "outputId": "17bc31bd-0332-447a-d689-0dc81aa19729"
      },
      "source": [
        "library(dplyr)\n",
        "library(scales)\n",
        "df_loan_mei %>% \n",
        "  arrange(total_amount) %>% \n",
        "  mutate(total_amount = comma(total_amount)) %>% \n",
        "  head(5)"
      ],
      "execution_count": 6,
      "outputs": [
        {
          "output_type": "display_data",
          "data": {
            "text/plain": [
              "  cabang total_amount\n",
              "1 AV     30,280,000  \n",
              "2 AS     31,740,000  \n",
              "3 AT     34,840,000  \n",
              "4 AU     35,610,000  \n",
              "5 AO     39,120,000  "
            ],
            "text/latex": "A tibble: 5 × 2\n\\begin{tabular}{ll}\n cabang & total\\_amount\\\\\n <chr> & <chr>\\\\\n\\hline\n\t AV & 30,280,000\\\\\n\t AS & 31,740,000\\\\\n\t AT & 34,840,000\\\\\n\t AU & 35,610,000\\\\\n\t AO & 39,120,000\\\\\n\\end{tabular}\n",
            "text/markdown": "\nA tibble: 5 × 2\n\n| cabang &lt;chr&gt; | total_amount &lt;chr&gt; |\n|---|---|\n| AV | 30,280,000 |\n| AS | 31,740,000 |\n| AT | 34,840,000 |\n| AU | 35,610,000 |\n| AO | 39,120,000 |\n\n",
            "text/html": [
              "<table>\n",
              "<caption>A tibble: 5 × 2</caption>\n",
              "<thead>\n",
              "\t<tr><th scope=col>cabang</th><th scope=col>total_amount</th></tr>\n",
              "\t<tr><th scope=col>&lt;chr&gt;</th><th scope=col>&lt;chr&gt;</th></tr>\n",
              "</thead>\n",
              "<tbody>\n",
              "\t<tr><td>AV</td><td>30,280,000</td></tr>\n",
              "\t<tr><td>AS</td><td>31,740,000</td></tr>\n",
              "\t<tr><td>AT</td><td>34,840,000</td></tr>\n",
              "\t<tr><td>AU</td><td>35,610,000</td></tr>\n",
              "\t<tr><td>AO</td><td>39,120,000</td></tr>\n",
              "</tbody>\n",
              "</table>\n"
            ]
          },
          "metadata": {
            "tags": []
          }
        }
      ]
    },
    {
      "cell_type": "markdown",
      "metadata": {
        "_uuid": "8c7e8f74-af5f-4673-ac15-d79bce5dc1c7",
        "_cell_guid": "3f2778b2-f66b-46d9-8820-700bb9b13d0b",
        "trusted": true,
        "id": "jizboBtyxQE-",
        "colab_type": "text"
      },
      "source": [
        "**Kesimpulan :**\n",
        "Terjadi perbedaan yang sangat signifikan antara top 5 dengan bottom 5. Hal ini mungkin karena umur cabang yang berbeda beda karena ada pertumbuhan cabang baru setiap bulannya."
      ]
    },
    {
      "cell_type": "markdown",
      "metadata": {
        "_uuid": "8d16632c-8928-4b74-8a31-ad934fdcd673",
        "_cell_guid": "f6e748e8-1706-457c-9b09-67316c4d1c0c",
        "trusted": true,
        "id": "BCtLV2QLxQE_",
        "colab_type": "text"
      },
      "source": [
        "# Melihat hubungan umur cabang dengan total amount\n",
        "## Menghitung umur cabang (dalam bulan)\n",
        "Karena tidak tersedia data umur cabang, maka perlu dihitung terlebih dahulu,\n",
        "yakni dengan menghitung sudah berapa lama sejak tanggal cair pertama sampai dengan bulan Mei."
      ]
    },
    {
      "cell_type": "code",
      "metadata": {
        "_uuid": "2f9e66e4-afa6-471d-8882-e6c51aaed7b6",
        "_cell_guid": "07f0fee9-f8bd-4c9c-938e-11246eef0e28",
        "trusted": true,
        "id": "G7pPpULnxQFA",
        "colab_type": "code",
        "colab": {
          "base_uri": "https://localhost:8080/",
          "height": 574
        },
        "outputId": "d318a15c-7b7a-40c2-fa55-6b42d066f7f0"
      },
      "source": [
        "library(dplyr)\n",
        "# Menyimpan hasil pada dataframe df_cabang_umur\n",
        "df_cabang_umur <- df_loan %>%\n",
        "  group_by(cabang) %>%\n",
        "  # Mencari tanggal pertama_cair berdasarkan nilai terkecil tanggal_cair\n",
        "  summarise(pertama_cair = min(tanggal_cair)) %>% \n",
        "  # Untuk memudahkan cara perhitungan umur dengan membagi jumlah selisih hari dengan 30, \n",
        "  # karena itu tanggal batas nya menggunakan tanggal tengah bulan (2020-05-15), \n",
        "  # agar tidak terlalu mempengaruhi presisi perhitungan.\n",
        "  mutate(umur = as.numeric(as.Date('2020-05-15') - as.Date(pertama_cair)) %/% 30) \n",
        "df_cabang_umur"
      ],
      "execution_count": 7,
      "outputs": [
        {
          "output_type": "stream",
          "text": [
            "`summarise()` ungrouping output (override with `.groups` argument)\n",
            "\n"
          ],
          "name": "stderr"
        },
        {
          "output_type": "display_data",
          "data": {
            "text/plain": [
              "   cabang pertama_cair umur\n",
              "1  AA     2020-01-06   4   \n",
              "2  AB     2020-01-06   4   \n",
              "3  AC     2020-01-06   4   \n",
              "4  AD     2020-01-06   4   \n",
              "5  AE     2020-02-03   3   \n",
              "6  AF     2020-02-03   3   \n",
              "7  AG     2020-02-03   3   \n",
              "8  AH     2020-02-03   3   \n",
              "9  AI     2020-03-02   2   \n",
              "10 AJ     2020-03-02   2   \n",
              "11 AK     2020-03-02   2   \n",
              "12 AL     2020-03-02   2   \n",
              "13 AM     2020-03-02   2   \n",
              "14 AN     2020-04-06   1   \n",
              "15 AO     2020-04-06   1   \n",
              "16 AP     2020-04-06   1   \n",
              "17 AQ     2020-04-06   1   \n",
              "18 AR     2020-04-06   1   \n",
              "19 AS     2020-05-04   0   \n",
              "20 AT     2020-05-04   0   \n",
              "21 AU     2020-05-04   0   \n",
              "22 AV     2020-05-04   0   "
            ],
            "text/latex": "A tibble: 22 × 3\n\\begin{tabular}{lll}\n cabang & pertama\\_cair & umur\\\\\n <chr> & <chr> & <dbl>\\\\\n\\hline\n\t AA & 2020-01-06 & 4\\\\\n\t AB & 2020-01-06 & 4\\\\\n\t AC & 2020-01-06 & 4\\\\\n\t AD & 2020-01-06 & 4\\\\\n\t AE & 2020-02-03 & 3\\\\\n\t AF & 2020-02-03 & 3\\\\\n\t AG & 2020-02-03 & 3\\\\\n\t AH & 2020-02-03 & 3\\\\\n\t AI & 2020-03-02 & 2\\\\\n\t AJ & 2020-03-02 & 2\\\\\n\t AK & 2020-03-02 & 2\\\\\n\t AL & 2020-03-02 & 2\\\\\n\t AM & 2020-03-02 & 2\\\\\n\t AN & 2020-04-06 & 1\\\\\n\t AO & 2020-04-06 & 1\\\\\n\t AP & 2020-04-06 & 1\\\\\n\t AQ & 2020-04-06 & 1\\\\\n\t AR & 2020-04-06 & 1\\\\\n\t AS & 2020-05-04 & 0\\\\\n\t AT & 2020-05-04 & 0\\\\\n\t AU & 2020-05-04 & 0\\\\\n\t AV & 2020-05-04 & 0\\\\\n\\end{tabular}\n",
            "text/markdown": "\nA tibble: 22 × 3\n\n| cabang &lt;chr&gt; | pertama_cair &lt;chr&gt; | umur &lt;dbl&gt; |\n|---|---|---|\n| AA | 2020-01-06 | 4 |\n| AB | 2020-01-06 | 4 |\n| AC | 2020-01-06 | 4 |\n| AD | 2020-01-06 | 4 |\n| AE | 2020-02-03 | 3 |\n| AF | 2020-02-03 | 3 |\n| AG | 2020-02-03 | 3 |\n| AH | 2020-02-03 | 3 |\n| AI | 2020-03-02 | 2 |\n| AJ | 2020-03-02 | 2 |\n| AK | 2020-03-02 | 2 |\n| AL | 2020-03-02 | 2 |\n| AM | 2020-03-02 | 2 |\n| AN | 2020-04-06 | 1 |\n| AO | 2020-04-06 | 1 |\n| AP | 2020-04-06 | 1 |\n| AQ | 2020-04-06 | 1 |\n| AR | 2020-04-06 | 1 |\n| AS | 2020-05-04 | 0 |\n| AT | 2020-05-04 | 0 |\n| AU | 2020-05-04 | 0 |\n| AV | 2020-05-04 | 0 |\n\n",
            "text/html": [
              "<table>\n",
              "<caption>A tibble: 22 × 3</caption>\n",
              "<thead>\n",
              "\t<tr><th scope=col>cabang</th><th scope=col>pertama_cair</th><th scope=col>umur</th></tr>\n",
              "\t<tr><th scope=col>&lt;chr&gt;</th><th scope=col>&lt;chr&gt;</th><th scope=col>&lt;dbl&gt;</th></tr>\n",
              "</thead>\n",
              "<tbody>\n",
              "\t<tr><td>AA</td><td>2020-01-06</td><td>4</td></tr>\n",
              "\t<tr><td>AB</td><td>2020-01-06</td><td>4</td></tr>\n",
              "\t<tr><td>AC</td><td>2020-01-06</td><td>4</td></tr>\n",
              "\t<tr><td>AD</td><td>2020-01-06</td><td>4</td></tr>\n",
              "\t<tr><td>AE</td><td>2020-02-03</td><td>3</td></tr>\n",
              "\t<tr><td>AF</td><td>2020-02-03</td><td>3</td></tr>\n",
              "\t<tr><td>AG</td><td>2020-02-03</td><td>3</td></tr>\n",
              "\t<tr><td>AH</td><td>2020-02-03</td><td>3</td></tr>\n",
              "\t<tr><td>AI</td><td>2020-03-02</td><td>2</td></tr>\n",
              "\t<tr><td>AJ</td><td>2020-03-02</td><td>2</td></tr>\n",
              "\t<tr><td>AK</td><td>2020-03-02</td><td>2</td></tr>\n",
              "\t<tr><td>AL</td><td>2020-03-02</td><td>2</td></tr>\n",
              "\t<tr><td>AM</td><td>2020-03-02</td><td>2</td></tr>\n",
              "\t<tr><td>AN</td><td>2020-04-06</td><td>1</td></tr>\n",
              "\t<tr><td>AO</td><td>2020-04-06</td><td>1</td></tr>\n",
              "\t<tr><td>AP</td><td>2020-04-06</td><td>1</td></tr>\n",
              "\t<tr><td>AQ</td><td>2020-04-06</td><td>1</td></tr>\n",
              "\t<tr><td>AR</td><td>2020-04-06</td><td>1</td></tr>\n",
              "\t<tr><td>AS</td><td>2020-05-04</td><td>0</td></tr>\n",
              "\t<tr><td>AT</td><td>2020-05-04</td><td>0</td></tr>\n",
              "\t<tr><td>AU</td><td>2020-05-04</td><td>0</td></tr>\n",
              "\t<tr><td>AV</td><td>2020-05-04</td><td>0</td></tr>\n",
              "</tbody>\n",
              "</table>\n"
            ]
          },
          "metadata": {
            "tags": []
          }
        }
      ]
    },
    {
      "cell_type": "markdown",
      "metadata": {
        "_uuid": "069db568-a9ca-41c5-8fda-1766eac4164f",
        "_cell_guid": "e9bc076c-ba43-478b-b151-c8b632b0ea53",
        "trusted": true,
        "id": "qKwLtlGYxQFF",
        "colab_type": "text"
      },
      "source": [
        "## Gabungkan data umur dan performa mei"
      ]
    },
    {
      "cell_type": "code",
      "metadata": {
        "_uuid": "cf0788e7-5572-48fe-b745-023852aa1eb6",
        "_cell_guid": "ef4e299c-64ae-4495-a49f-5dc3931b71d3",
        "trusted": true,
        "id": "uE39rhP9xQFI",
        "colab_type": "code",
        "colab": {
          "base_uri": "https://localhost:8080/",
          "height": 540
        },
        "outputId": "159b3cf0-a88a-43f9-addf-1ca0878cc59d"
      },
      "source": [
        "library(dplyr)\n",
        "# Menyimpan hasil pada dataframe df_loan_mei_umur\n",
        "df_loan_mei_umur <- df_cabang_umur %>%\n",
        "  # Menggabungkan df_cabang_umur dengan df_loan_mei menggunakan fungsi inner_join()\n",
        "  inner_join(df_loan_mei, by = 'cabang')\n",
        "df_loan_mei_umur"
      ],
      "execution_count": 8,
      "outputs": [
        {
          "output_type": "display_data",
          "data": {
            "text/plain": [
              "   cabang pertama_cair umur total_amount\n",
              "1  AA     2020-01-06   4    75710000    \n",
              "2  AB     2020-01-06   4    81440000    \n",
              "3  AC     2020-01-06   4    83990000    \n",
              "4  AD     2020-01-06   4    76080000    \n",
              "5  AE     2020-02-03   3    54200000    \n",
              "6  AF     2020-02-03   3    68040000    \n",
              "7  AG     2020-02-03   3    74080000    \n",
              "8  AH     2020-02-03   3    73840000    \n",
              "9  AI     2020-03-02   2    46640000    \n",
              "10 AJ     2020-03-02   2    43580000    \n",
              "11 AK     2020-03-02   2    44590000    \n",
              "12 AL     2020-03-02   2    40650000    \n",
              "13 AM     2020-03-02   2    44010000    \n",
              "14 AN     2020-04-06   1    39700000    \n",
              "15 AO     2020-04-06   1    39120000    \n",
              "16 AP     2020-04-06   1    44740000    \n",
              "17 AQ     2020-04-06   1    39190000    \n",
              "18 AR     2020-04-06   1    44230000    \n",
              "19 AS     2020-05-04   0    31740000    \n",
              "20 AT     2020-05-04   0    34840000    \n",
              "21 AU     2020-05-04   0    35610000    \n",
              "22 AV     2020-05-04   0    30280000    "
            ],
            "text/latex": "A tibble: 22 × 4\n\\begin{tabular}{llll}\n cabang & pertama\\_cair & umur & total\\_amount\\\\\n <chr> & <chr> & <dbl> & <int>\\\\\n\\hline\n\t AA & 2020-01-06 & 4 & 75710000\\\\\n\t AB & 2020-01-06 & 4 & 81440000\\\\\n\t AC & 2020-01-06 & 4 & 83990000\\\\\n\t AD & 2020-01-06 & 4 & 76080000\\\\\n\t AE & 2020-02-03 & 3 & 54200000\\\\\n\t AF & 2020-02-03 & 3 & 68040000\\\\\n\t AG & 2020-02-03 & 3 & 74080000\\\\\n\t AH & 2020-02-03 & 3 & 73840000\\\\\n\t AI & 2020-03-02 & 2 & 46640000\\\\\n\t AJ & 2020-03-02 & 2 & 43580000\\\\\n\t AK & 2020-03-02 & 2 & 44590000\\\\\n\t AL & 2020-03-02 & 2 & 40650000\\\\\n\t AM & 2020-03-02 & 2 & 44010000\\\\\n\t AN & 2020-04-06 & 1 & 39700000\\\\\n\t AO & 2020-04-06 & 1 & 39120000\\\\\n\t AP & 2020-04-06 & 1 & 44740000\\\\\n\t AQ & 2020-04-06 & 1 & 39190000\\\\\n\t AR & 2020-04-06 & 1 & 44230000\\\\\n\t AS & 2020-05-04 & 0 & 31740000\\\\\n\t AT & 2020-05-04 & 0 & 34840000\\\\\n\t AU & 2020-05-04 & 0 & 35610000\\\\\n\t AV & 2020-05-04 & 0 & 30280000\\\\\n\\end{tabular}\n",
            "text/markdown": "\nA tibble: 22 × 4\n\n| cabang &lt;chr&gt; | pertama_cair &lt;chr&gt; | umur &lt;dbl&gt; | total_amount &lt;int&gt; |\n|---|---|---|---|\n| AA | 2020-01-06 | 4 | 75710000 |\n| AB | 2020-01-06 | 4 | 81440000 |\n| AC | 2020-01-06 | 4 | 83990000 |\n| AD | 2020-01-06 | 4 | 76080000 |\n| AE | 2020-02-03 | 3 | 54200000 |\n| AF | 2020-02-03 | 3 | 68040000 |\n| AG | 2020-02-03 | 3 | 74080000 |\n| AH | 2020-02-03 | 3 | 73840000 |\n| AI | 2020-03-02 | 2 | 46640000 |\n| AJ | 2020-03-02 | 2 | 43580000 |\n| AK | 2020-03-02 | 2 | 44590000 |\n| AL | 2020-03-02 | 2 | 40650000 |\n| AM | 2020-03-02 | 2 | 44010000 |\n| AN | 2020-04-06 | 1 | 39700000 |\n| AO | 2020-04-06 | 1 | 39120000 |\n| AP | 2020-04-06 | 1 | 44740000 |\n| AQ | 2020-04-06 | 1 | 39190000 |\n| AR | 2020-04-06 | 1 | 44230000 |\n| AS | 2020-05-04 | 0 | 31740000 |\n| AT | 2020-05-04 | 0 | 34840000 |\n| AU | 2020-05-04 | 0 | 35610000 |\n| AV | 2020-05-04 | 0 | 30280000 |\n\n",
            "text/html": [
              "<table>\n",
              "<caption>A tibble: 22 × 4</caption>\n",
              "<thead>\n",
              "\t<tr><th scope=col>cabang</th><th scope=col>pertama_cair</th><th scope=col>umur</th><th scope=col>total_amount</th></tr>\n",
              "\t<tr><th scope=col>&lt;chr&gt;</th><th scope=col>&lt;chr&gt;</th><th scope=col>&lt;dbl&gt;</th><th scope=col>&lt;int&gt;</th></tr>\n",
              "</thead>\n",
              "<tbody>\n",
              "\t<tr><td>AA</td><td>2020-01-06</td><td>4</td><td>75710000</td></tr>\n",
              "\t<tr><td>AB</td><td>2020-01-06</td><td>4</td><td>81440000</td></tr>\n",
              "\t<tr><td>AC</td><td>2020-01-06</td><td>4</td><td>83990000</td></tr>\n",
              "\t<tr><td>AD</td><td>2020-01-06</td><td>4</td><td>76080000</td></tr>\n",
              "\t<tr><td>AE</td><td>2020-02-03</td><td>3</td><td>54200000</td></tr>\n",
              "\t<tr><td>AF</td><td>2020-02-03</td><td>3</td><td>68040000</td></tr>\n",
              "\t<tr><td>AG</td><td>2020-02-03</td><td>3</td><td>74080000</td></tr>\n",
              "\t<tr><td>AH</td><td>2020-02-03</td><td>3</td><td>73840000</td></tr>\n",
              "\t<tr><td>AI</td><td>2020-03-02</td><td>2</td><td>46640000</td></tr>\n",
              "\t<tr><td>AJ</td><td>2020-03-02</td><td>2</td><td>43580000</td></tr>\n",
              "\t<tr><td>AK</td><td>2020-03-02</td><td>2</td><td>44590000</td></tr>\n",
              "\t<tr><td>AL</td><td>2020-03-02</td><td>2</td><td>40650000</td></tr>\n",
              "\t<tr><td>AM</td><td>2020-03-02</td><td>2</td><td>44010000</td></tr>\n",
              "\t<tr><td>AN</td><td>2020-04-06</td><td>1</td><td>39700000</td></tr>\n",
              "\t<tr><td>AO</td><td>2020-04-06</td><td>1</td><td>39120000</td></tr>\n",
              "\t<tr><td>AP</td><td>2020-04-06</td><td>1</td><td>44740000</td></tr>\n",
              "\t<tr><td>AQ</td><td>2020-04-06</td><td>1</td><td>39190000</td></tr>\n",
              "\t<tr><td>AR</td><td>2020-04-06</td><td>1</td><td>44230000</td></tr>\n",
              "\t<tr><td>AS</td><td>2020-05-04</td><td>0</td><td>31740000</td></tr>\n",
              "\t<tr><td>AT</td><td>2020-05-04</td><td>0</td><td>34840000</td></tr>\n",
              "\t<tr><td>AU</td><td>2020-05-04</td><td>0</td><td>35610000</td></tr>\n",
              "\t<tr><td>AV</td><td>2020-05-04</td><td>0</td><td>30280000</td></tr>\n",
              "</tbody>\n",
              "</table>\n"
            ]
          },
          "metadata": {
            "tags": []
          }
        }
      ]
    },
    {
      "cell_type": "markdown",
      "metadata": {
        "_uuid": "d17581f7-3ddb-4689-a625-9de041cac4ed",
        "_cell_guid": "905d059a-b157-4110-8c40-37cf5e232eba",
        "trusted": true,
        "id": "zO_La2ubxQFQ",
        "colab_type": "text"
      },
      "source": [
        "## Plot relasi umur dan performa mei"
      ]
    },
    {
      "cell_type": "code",
      "metadata": {
        "_uuid": "93acce51-8466-4215-8548-0c866da33ecd",
        "_cell_guid": "0b925014-c4aa-4627-a7b5-4dac36b4913b",
        "trusted": true,
        "id": "vc4LUW2pxQFR",
        "colab_type": "code",
        "colab": {
          "base_uri": "https://localhost:8080/",
          "height": 437
        },
        "outputId": "50ed5d20-d67b-4a6a-b8cc-92d4962507dc"
      },
      "source": [
        "# Package yang digunakan untuk membuat plot dengan syntax yang konsisten\n",
        "library(ggplot2)\n",
        "\n",
        "ggplot(df_loan_mei_umur, aes(x = umur, y = total_amount)) +\n",
        "  geom_point() +\n",
        "  scale_y_continuous(labels = scales::comma) +\n",
        "  labs(title = \"Semakin berumur, performa cabang akan semakin baik\",\n",
        "       x = \"Umur(bulan)\",\n",
        "       y = \"Total Amount\")"
      ],
      "execution_count": 9,
      "outputs": [
        {
          "output_type": "display_data",
          "data": {
            "image/png": "[encoded data removed]",
            "text/plain": [
              "plot without title"
            ]
          },
          "metadata": {
            "tags": [],
            "image/png": {
              "width": 420,
              "height": 420
            },
            "text/plain": {
              "width": 420,
              "height": 420
            }
          }
        }
      ]
    },
    {
      "cell_type": "markdown",
      "metadata": {
        "_uuid": "270a8212-9f1d-42b9-9dbc-dec857cee78a",
        "_cell_guid": "ed8647e5-cb33-4776-9856-429d5d343b6d",
        "trusted": true,
        "id": "T1hqvxyexQFZ",
        "colab_type": "text"
      },
      "source": [
        "**Kesimpulan :**\n",
        "Kesimpulan\n",
        "Terlihat bahwa ada pola semakin tua cabang, maka performa nya semakin baik.\n",
        "Hal ini karena cabang tersebut masih berkembang sehingga belum sampai pada performa maksimal.\n",
        "\n",
        "Akan tetapi pada masing - masing umur itu juga ada cabang yang performanya dibawah yang lain."
      ]
    },
    {
      "cell_type": "markdown",
      "metadata": {
        "_uuid": "d75a81d1-2a52-4874-aac2-794e61c3005c",
        "_cell_guid": "f4820f1d-1fe1-41e2-aa3b-191b677af1f7",
        "trusted": true,
        "id": "6dDc5XOwxQFa",
        "colab_type": "text"
      },
      "source": [
        "# Cabang dengan performa rendah pada kelompok umur\n",
        "## Mencari cabang yang performa rendah untuk setiap umur"
      ]
    },
    {
      "cell_type": "code",
      "metadata": {
        "_uuid": "459c9056-f68e-4ca3-9a1e-7a1950f6a923",
        "_cell_guid": "eed4e093-ba16-4590-86b5-5de005d0f88a",
        "trusted": true,
        "id": "neVGSfABxQFd",
        "colab_type": "code",
        "colab": {
          "base_uri": "https://localhost:8080/",
          "height": 409
        },
        "outputId": "4c8455e6-b80e-440a-ef52-81172841fd99"
      },
      "source": [
        "library(dplyr)\n",
        "library(scales)\n",
        "# Menyimpan hasil pada dataframe df_loan_mei_flag menggunakan data pada df_loan_mei_umur\n",
        "df_loan_mei_flag <- df_loan_mei_umur %>% \n",
        "  # Kelompokkan berdasarkan umur\n",
        "  group_by(umur) %>% \n",
        "  # Hitung nilai Quartile dan Inter Quartile Range\n",
        "  mutate(Q1 = quantile(total_amount, 0.25),\n",
        "\t   Q3 = quantile(total_amount, 0.75),\n",
        "\t   IQR = (Q3-Q1)) %>%\n",
        "  # Buat flag dengan ketentuan rendah untuk total_amout lebih kecil dari (Q1 - IQR)\n",
        "  mutate(flag = ifelse(total_amount < (Q1 - IQR), 'rendah','baik'))\n",
        "# Tampilkan hasil hanya flag rendah\n",
        "df_loan_mei_flag %>% \n",
        "  filter(flag == 'rendah') %>% \n",
        "  mutate_if(is.numeric, funs(comma))"
      ],
      "execution_count": 10,
      "outputs": [
        {
          "output_type": "stream",
          "text": [
            "`mutate_if()` ignored the following grouping variables:\n",
            "Column `umur`\n",
            "\n",
            "Warning message:\n",
            "“`funs()` is deprecated as of dplyr 0.8.0.\n",
            "Please use a list of either functions or lambdas: \n",
            "\n",
            "  # Simple named list: \n",
            "  list(mean = mean, median = median)\n",
            "\n",
            "  # Auto named with `tibble::lst()`: \n",
            "  tibble::lst(mean, median)\n",
            "\n",
            "  # Using lambdas\n",
            "  list(~ mean(., trim = .2), ~ median(., na.rm = TRUE))\n",
            "\u001b[90mThis warning is displayed once every 8 hours.\u001b[39m\n",
            "\u001b[90mCall `lifecycle::last_warnings()` to see where this warning was generated.\u001b[39m”\n"
          ],
          "name": "stderr"
        },
        {
          "output_type": "display_data",
          "data": {
            "text/plain": [
              "  cabang pertama_cair umur total_amount Q1         Q3         IQR       flag  \n",
              "1 AE     2020-02-03   3    54,200,000   64,580,000 73,900,000 9,320,000 rendah\n",
              "2 AL     2020-03-02   2    40,650,000   43,580,000 44,590,000 1,010,000 rendah"
            ],
            "text/latex": "A grouped\\_df: 2 × 8\n\\begin{tabular}{llllllll}\n cabang & pertama\\_cair & umur & total\\_amount & Q1 & Q3 & IQR & flag\\\\\n <chr> & <chr> & <dbl> & <chr> & <chr> & <chr> & <chr> & <chr>\\\\\n\\hline\n\t AE & 2020-02-03 & 3 & 54,200,000 & 64,580,000 & 73,900,000 & 9,320,000 & rendah\\\\\n\t AL & 2020-03-02 & 2 & 40,650,000 & 43,580,000 & 44,590,000 & 1,010,000 & rendah\\\\\n\\end{tabular}\n",
            "text/markdown": "\nA grouped_df: 2 × 8\n\n| cabang &lt;chr&gt; | pertama_cair &lt;chr&gt; | umur &lt;dbl&gt; | total_amount &lt;chr&gt; | Q1 &lt;chr&gt; | Q3 &lt;chr&gt; | IQR &lt;chr&gt; | flag &lt;chr&gt; |\n|---|---|---|---|---|---|---|---|\n| AE | 2020-02-03 | 3 | 54,200,000 | 64,580,000 | 73,900,000 | 9,320,000 | rendah |\n| AL | 2020-03-02 | 2 | 40,650,000 | 43,580,000 | 44,590,000 | 1,010,000 | rendah |\n\n",
            "text/html": [
              "<table>\n",
              "<caption>A grouped_df: 2 × 8</caption>\n",
              "<thead>\n",
              "\t<tr><th scope=col>cabang</th><th scope=col>pertama_cair</th><th scope=col>umur</th><th scope=col>total_amount</th><th scope=col>Q1</th><th scope=col>Q3</th><th scope=col>IQR</th><th scope=col>flag</th></tr>\n",
              "\t<tr><th scope=col>&lt;chr&gt;</th><th scope=col>&lt;chr&gt;</th><th scope=col>&lt;dbl&gt;</th><th scope=col>&lt;chr&gt;</th><th scope=col>&lt;chr&gt;</th><th scope=col>&lt;chr&gt;</th><th scope=col>&lt;chr&gt;</th><th scope=col>&lt;chr&gt;</th></tr>\n",
              "</thead>\n",
              "<tbody>\n",
              "\t<tr><td>AE</td><td>2020-02-03</td><td>3</td><td>54,200,000</td><td>64,580,000</td><td>73,900,000</td><td>9,320,000</td><td>rendah</td></tr>\n",
              "\t<tr><td>AL</td><td>2020-03-02</td><td>2</td><td>40,650,000</td><td>43,580,000</td><td>44,590,000</td><td>1,010,000</td><td>rendah</td></tr>\n",
              "</tbody>\n",
              "</table>\n"
            ]
          },
          "metadata": {
            "tags": []
          }
        }
      ]
    },
    {
      "cell_type": "markdown",
      "metadata": {
        "_uuid": "c4c3d4ea-6636-4449-b148-9398d6b63ff6",
        "_cell_guid": "9231aa7a-287d-40ba-8601-f8a3c5e0949c",
        "trusted": true,
        "id": "vFSAP4JmxQF0",
        "colab_type": "text"
      },
      "source": [
        "## Buat Scatterplot dengan beri warna merah pada cabang yang rendah "
      ]
    },
    {
      "cell_type": "code",
      "metadata": {
        "_uuid": "01567a72-4ac4-4f51-a944-53b252afaa11",
        "_cell_guid": "9ba320ff-add2-4c17-8b7e-611cb3c78387",
        "trusted": true,
        "id": "CiwpyxskxQF1",
        "colab_type": "code",
        "colab": {
          "base_uri": "https://localhost:8080/",
          "height": 437
        },
        "outputId": "577dfb29-1382-4e92-e5c8-c7431defcaef"
      },
      "source": [
        "library(ggplot2)\n",
        "\n",
        "ggplot(df_loan_mei_flag, aes(x = umur, y = total_amount)) +\n",
        "  geom_point(aes(color = flag)) +\n",
        "  # Mengatur legend pada grafik\n",
        "  scale_color_manual(breaks = c(\"baik\", \"rendah\"),\n",
        "                        values=c(\"blue\", \"red\")) +\n",
        "  scale_y_continuous(labels = scales::comma) +\n",
        "  labs(title = \"Ada cabang berpeforma rendah padahal tidak termasuk bottom 5 nasional\",\n",
        "\t   color = \"\",\n",
        "       x = \"Umur(bulan)\",\n",
        "       y = \"Total Amount\")"
      ],
      "execution_count": 11,
      "outputs": [
        {
          "output_type": "display_data",
          "data": {
            "image/png": "[encoded data removed]",
            "text/plain": [
              "plot without title"
            ]
          },
          "metadata": {
            "tags": [],
            "image/png": {
              "width": 420,
              "height": 420
            },
            "text/plain": {
              "width": 420,
              "height": 420
            }
          }
        }
      ]
    },
    {
      "cell_type": "markdown",
      "metadata": {
        "_uuid": "68b8e127-76e4-4e26-b83b-b200f498c3ad",
        "_cell_guid": "f05be9b8-daf3-4e99-8928-2b2bd952c1b0",
        "trusted": true,
        "id": "dB1O-HsDxQF7",
        "colab_type": "text"
      },
      "source": [
        "# Analisis cabang dengan performa rendah\n",
        "## Lihat perbadingan performa cabang di umur yang sama\n",
        "Selanjutnya akan dianalisis lebih lanjut kenapa cabang itu bisa performanya rendah di bulan mei\n",
        "\n",
        "Untuk kali ini akan dilihat hanya untuk yang umur 3 bulan saja, dilihat detail performa pada bulan mei dengan mengihitung,\n",
        "- jumlah hari pencairan dalam 1 bulan,\n",
        "- jumlah agen yang aktif,\n",
        "- total loan yang cair,\n",
        "- rata - rata amount cair per loan."
      ]
    },
    {
      "cell_type": "code",
      "metadata": {
        "_uuid": "dc77c942-5783-46f4-8dd7-a1f10cd07bda",
        "_cell_guid": "b72aa772-45df-41ea-af2a-645d4a222ba5",
        "trusted": true,
        "id": "o9-UgXAtxQF8",
        "colab_type": "code",
        "colab": {
          "base_uri": "https://localhost:8080/",
          "height": 247
        },
        "outputId": "f48f826a-1990-4b4c-ecca-15f9c14bc216"
      },
      "source": [
        "library(dplyr)\n",
        "library(scales)\n",
        "df_loan_mei_flag %>% \n",
        "  filter(umur == 3) %>% \n",
        "  inner_join(df_loan, by = 'cabang') %>% \n",
        "  filter(tanggal_cair >= '2020-05-01', tanggal_cair <= '2020-05-31') %>% \n",
        "  group_by(cabang, flag) %>% \n",
        "  summarise(jumlah_hari = n_distinct(tanggal_cair),\n",
        "            agen_aktif = n_distinct(agen),\n",
        "            total_loan_cair = n_distinct(loan_id),\n",
        "            avg_amount = mean(amount), \n",
        "            total_amount = sum(amount)) %>% \n",
        "  arrange(total_amount) %>% \n",
        "  mutate_if(is.numeric, funs(comma))"
      ],
      "execution_count": 12,
      "outputs": [
        {
          "output_type": "stream",
          "text": [
            "`summarise()` regrouping output by 'cabang' (override with `.groups` argument)\n",
            "\n",
            "`mutate_if()` ignored the following grouping variables:\n",
            "Column `cabang`\n",
            "\n"
          ],
          "name": "stderr"
        },
        {
          "output_type": "display_data",
          "data": {
            "text/plain": [
              "  cabang flag   jumlah_hari agen_aktif total_loan_cair avg_amount total_amount\n",
              "1 AE     rendah 21          3          175             309,714    54,200,000  \n",
              "2 AF     baik   21          3          225             302,400    68,040,000  \n",
              "3 AH     baik   21          3          241             306,390    73,840,000  \n",
              "4 AG     baik   21          3          241             307,386    74,080,000  "
            ],
            "text/latex": "A grouped\\_df: 4 × 7\n\\begin{tabular}{lllllll}\n cabang & flag & jumlah\\_hari & agen\\_aktif & total\\_loan\\_cair & avg\\_amount & total\\_amount\\\\\n <chr> & <chr> & <chr> & <chr> & <chr> & <chr> & <chr>\\\\\n\\hline\n\t AE & rendah & 21 & 3 & 175 & 309,714 & 54,200,000\\\\\n\t AF & baik   & 21 & 3 & 225 & 302,400 & 68,040,000\\\\\n\t AH & baik   & 21 & 3 & 241 & 306,390 & 73,840,000\\\\\n\t AG & baik   & 21 & 3 & 241 & 307,386 & 74,080,000\\\\\n\\end{tabular}\n",
            "text/markdown": "\nA grouped_df: 4 × 7\n\n| cabang &lt;chr&gt; | flag &lt;chr&gt; | jumlah_hari &lt;chr&gt; | agen_aktif &lt;chr&gt; | total_loan_cair &lt;chr&gt; | avg_amount &lt;chr&gt; | total_amount &lt;chr&gt; |\n|---|---|---|---|---|---|---|\n| AE | rendah | 21 | 3 | 175 | 309,714 | 54,200,000 |\n| AF | baik   | 21 | 3 | 225 | 302,400 | 68,040,000 |\n| AH | baik   | 21 | 3 | 241 | 306,390 | 73,840,000 |\n| AG | baik   | 21 | 3 | 241 | 307,386 | 74,080,000 |\n\n",
            "text/html": [
              "<table>\n",
              "<caption>A grouped_df: 4 × 7</caption>\n",
              "<thead>\n",
              "\t<tr><th scope=col>cabang</th><th scope=col>flag</th><th scope=col>jumlah_hari</th><th scope=col>agen_aktif</th><th scope=col>total_loan_cair</th><th scope=col>avg_amount</th><th scope=col>total_amount</th></tr>\n",
              "\t<tr><th scope=col>&lt;chr&gt;</th><th scope=col>&lt;chr&gt;</th><th scope=col>&lt;chr&gt;</th><th scope=col>&lt;chr&gt;</th><th scope=col>&lt;chr&gt;</th><th scope=col>&lt;chr&gt;</th><th scope=col>&lt;chr&gt;</th></tr>\n",
              "</thead>\n",
              "<tbody>\n",
              "\t<tr><td>AE</td><td>rendah</td><td>21</td><td>3</td><td>175</td><td>309,714</td><td>54,200,000</td></tr>\n",
              "\t<tr><td>AF</td><td>baik  </td><td>21</td><td>3</td><td>225</td><td>302,400</td><td>68,040,000</td></tr>\n",
              "\t<tr><td>AH</td><td>baik  </td><td>21</td><td>3</td><td>241</td><td>306,390</td><td>73,840,000</td></tr>\n",
              "\t<tr><td>AG</td><td>baik  </td><td>21</td><td>3</td><td>241</td><td>307,386</td><td>74,080,000</td></tr>\n",
              "</tbody>\n",
              "</table>\n"
            ]
          },
          "metadata": {
            "tags": []
          }
        }
      ]
    },
    {
      "cell_type": "markdown",
      "metadata": {
        "_uuid": "a14b58af-3560-447c-848a-63e0c4013fb9",
        "_cell_guid": "3e4db3f6-0c95-416b-b9d7-cbca6aeb3d3e",
        "trusted": true,
        "id": "xBiSxbZzxQGC",
        "colab_type": "text"
      },
      "source": [
        "## Lihat perbadingan performa agen pada cabang yang rendah\n",
        "Dari hasil eksplorasi sebelumnya, terlihat bahwa yang berbeda jauh hanya total_loan_cair saja.\n",
        "Jumlah hari dan jumlah agen dalam 1 bulan sama semua.\n",
        "\n",
        "Selanjutnya perlu dilihat bagaimana perbandingan nya per agent.\n",
        "\n",
        "Untuk melanjutkan, dilihat untuk yang umur 3 bulan dan flag nya rendah dilihat detail performa pada bulan mei per agen dengan mengihitung,\n",
        "\n",
        "- jumlah hari pencairan dalam 1 bulan,\n",
        "- total loan yang cair,\n",
        "- rata - rata amount cair per loan\n",
        "- total amount cair"
      ]
    },
    {
      "cell_type": "code",
      "metadata": {
        "_uuid": "6de98b3d-83d9-4d1d-b7db-5d97ad1e2d0f",
        "_cell_guid": "0028ea63-11af-43b7-87ef-2b4d0cfe7bda",
        "trusted": true,
        "id": "q1zlZApsxQGF",
        "colab_type": "code",
        "colab": {
          "base_uri": "https://localhost:8080/",
          "height": 226
        },
        "outputId": "6a19b1d0-5882-41b9-b395-e311cd163636"
      },
      "source": [
        "library(dplyr)\n",
        "library(scales)\n",
        "df_loan_mei_flag %>% \n",
        "  filter(umur == 3, flag == 'rendah') %>% \n",
        "  inner_join(df_loan, by = 'cabang') %>% \n",
        "  filter(tanggal_cair >= '2020-05-01', tanggal_cair <= '2020-05-31') %>% \n",
        "  group_by(cabang, agen) %>% \n",
        "  summarise(jumlah_hari = n_distinct(tanggal_cair),\n",
        "            total_loan_cair = n_distinct(loan_id),\n",
        "            avg_amount = mean(amount), \n",
        "            total_amount = sum(amount)) %>% \n",
        "  arrange(total_amount) %>% \n",
        "  mutate_if(is.numeric, funs(comma))"
      ],
      "execution_count": 13,
      "outputs": [
        {
          "output_type": "stream",
          "text": [
            "`summarise()` regrouping output by 'cabang' (override with `.groups` argument)\n",
            "\n",
            "`mutate_if()` ignored the following grouping variables:\n",
            "Column `cabang`\n",
            "\n"
          ],
          "name": "stderr"
        },
        {
          "output_type": "display_data",
          "data": {
            "text/plain": [
              "  cabang agen jumlah_hari total_loan_cair avg_amount total_amount\n",
              "1 AE     AE-3 4.0         16              310,625    4,970,000   \n",
              "2 AE     AE-2 18.0        73              320,274    23,380,000  \n",
              "3 AE     AE-1 21.0        86              300,581    25,850,000  "
            ],
            "text/latex": "A grouped\\_df: 3 × 6\n\\begin{tabular}{llllll}\n cabang & agen & jumlah\\_hari & total\\_loan\\_cair & avg\\_amount & total\\_amount\\\\\n <chr> & <chr> & <chr> & <chr> & <chr> & <chr>\\\\\n\\hline\n\t AE & AE-3 & 4.0  & 16 & 310,625 & 4,970,000 \\\\\n\t AE & AE-2 & 18.0 & 73 & 320,274 & 23,380,000\\\\\n\t AE & AE-1 & 21.0 & 86 & 300,581 & 25,850,000\\\\\n\\end{tabular}\n",
            "text/markdown": "\nA grouped_df: 3 × 6\n\n| cabang &lt;chr&gt; | agen &lt;chr&gt; | jumlah_hari &lt;chr&gt; | total_loan_cair &lt;chr&gt; | avg_amount &lt;chr&gt; | total_amount &lt;chr&gt; |\n|---|---|---|---|---|---|\n| AE | AE-3 | 4.0  | 16 | 310,625 | 4,970,000  |\n| AE | AE-2 | 18.0 | 73 | 320,274 | 23,380,000 |\n| AE | AE-1 | 21.0 | 86 | 300,581 | 25,850,000 |\n\n",
            "text/html": [
              "<table>\n",
              "<caption>A grouped_df: 3 × 6</caption>\n",
              "<thead>\n",
              "\t<tr><th scope=col>cabang</th><th scope=col>agen</th><th scope=col>jumlah_hari</th><th scope=col>total_loan_cair</th><th scope=col>avg_amount</th><th scope=col>total_amount</th></tr>\n",
              "\t<tr><th scope=col>&lt;chr&gt;</th><th scope=col>&lt;chr&gt;</th><th scope=col>&lt;chr&gt;</th><th scope=col>&lt;chr&gt;</th><th scope=col>&lt;chr&gt;</th><th scope=col>&lt;chr&gt;</th></tr>\n",
              "</thead>\n",
              "<tbody>\n",
              "\t<tr><td>AE</td><td>AE-3</td><td>4.0 </td><td>16</td><td>310,625</td><td>4,970,000 </td></tr>\n",
              "\t<tr><td>AE</td><td>AE-2</td><td>18.0</td><td>73</td><td>320,274</td><td>23,380,000</td></tr>\n",
              "\t<tr><td>AE</td><td>AE-1</td><td>21.0</td><td>86</td><td>300,581</td><td>25,850,000</td></tr>\n",
              "</tbody>\n",
              "</table>\n"
            ]
          },
          "metadata": {
            "tags": []
          }
        }
      ]
    },
    {
      "cell_type": "markdown",
      "metadata": {
        "_uuid": "82b15456-a2e3-4801-bf80-831630ef44c2",
        "_cell_guid": "dde925b9-bb13-4844-88b5-cc4f06abc545",
        "trusted": true,
        "id": "hTTSS8yJxQGL",
        "colab_type": "text"
      },
      "source": [
        "## Lihat perbadingan performa agen pada cabang yang paling baik umur 3 bulan\n",
        "Pada tabel sebelumnya, terlihat pula bahwa ada cabang yang punya 3 agen, tapi performa nya jauh diatas cabang AE, bahkan yang paling tinggil diantara cabang lain pada umur tersebut, lebih tinggi dari yang mempunya 4 agen cabang tersebut adalah cabang AH.\n",
        "\n",
        "Dengan cara yang hampir sama, akan dilihat bagaimana performa masing-masing agen dari cabang AH tersebut. Hanya saja untuk ini bisa langsung pakai data df_loan lalu filter nama cabang nya saja."
      ]
    },
    {
      "cell_type": "code",
      "metadata": {
        "_uuid": "9da2d798-8179-4c56-a691-b1e3623e1989",
        "_cell_guid": "1fff8fa6-032a-405f-b4a0-9af15f1ff118",
        "trusted": true,
        "id": "XbHdWUFkxQGM",
        "colab_type": "code",
        "colab": {
          "base_uri": "https://localhost:8080/",
          "height": 226
        },
        "outputId": "849066f4-ff0c-415a-8233-0a60d77d3123"
      },
      "source": [
        "library(dplyr)\n",
        "library(scales)\n",
        "df_loan %>% \n",
        "  filter(cabang == 'AH') %>% \n",
        "  filter(tanggal_cair >= '2020-05-01', tanggal_cair <= '2020-05-31') %>% \n",
        "  group_by(cabang, agen) %>% \n",
        "  summarise(jumlah_hari = n_distinct(tanggal_cair),\n",
        "            total_loan_cair = n_distinct(loan_id),\n",
        "            avg_amount = mean(amount), \n",
        "            total_amount = sum(amount)) %>% \n",
        "  arrange(total_amount) %>% \n",
        "  mutate_if(is.numeric, funs(comma))"
      ],
      "execution_count": 14,
      "outputs": [
        {
          "output_type": "stream",
          "text": [
            "`summarise()` regrouping output by 'cabang' (override with `.groups` argument)\n",
            "\n",
            "`mutate_if()` ignored the following grouping variables:\n",
            "Column `cabang`\n",
            "\n"
          ],
          "name": "stderr"
        },
        {
          "output_type": "display_data",
          "data": {
            "text/plain": [
              "  cabang agen jumlah_hari total_loan_cair avg_amount total_amount\n",
              "1 AH     AH-3 19.0        74.0            303,649    22,470,000  \n",
              "2 AH     AH-1 21.0        81.0            301,358    24,410,000  \n",
              "3 AH     AH-2 21.0        86.0            313,488    26,960,000  "
            ],
            "text/latex": "A grouped\\_df: 3 × 6\n\\begin{tabular}{llllll}\n cabang & agen & jumlah\\_hari & total\\_loan\\_cair & avg\\_amount & total\\_amount\\\\\n <chr> & <chr> & <chr> & <chr> & <chr> & <chr>\\\\\n\\hline\n\t AH & AH-3 & 19.0 & 74.0 & 303,649 & 22,470,000\\\\\n\t AH & AH-1 & 21.0 & 81.0 & 301,358 & 24,410,000\\\\\n\t AH & AH-2 & 21.0 & 86.0 & 313,488 & 26,960,000\\\\\n\\end{tabular}\n",
            "text/markdown": "\nA grouped_df: 3 × 6\n\n| cabang &lt;chr&gt; | agen &lt;chr&gt; | jumlah_hari &lt;chr&gt; | total_loan_cair &lt;chr&gt; | avg_amount &lt;chr&gt; | total_amount &lt;chr&gt; |\n|---|---|---|---|---|---|\n| AH | AH-3 | 19.0 | 74.0 | 303,649 | 22,470,000 |\n| AH | AH-1 | 21.0 | 81.0 | 301,358 | 24,410,000 |\n| AH | AH-2 | 21.0 | 86.0 | 313,488 | 26,960,000 |\n\n",
            "text/html": [
              "<table>\n",
              "<caption>A grouped_df: 3 × 6</caption>\n",
              "<thead>\n",
              "\t<tr><th scope=col>cabang</th><th scope=col>agen</th><th scope=col>jumlah_hari</th><th scope=col>total_loan_cair</th><th scope=col>avg_amount</th><th scope=col>total_amount</th></tr>\n",
              "\t<tr><th scope=col>&lt;chr&gt;</th><th scope=col>&lt;chr&gt;</th><th scope=col>&lt;chr&gt;</th><th scope=col>&lt;chr&gt;</th><th scope=col>&lt;chr&gt;</th><th scope=col>&lt;chr&gt;</th></tr>\n",
              "</thead>\n",
              "<tbody>\n",
              "\t<tr><td>AH</td><td>AH-3</td><td>19.0</td><td>74.0</td><td>303,649</td><td>22,470,000</td></tr>\n",
              "\t<tr><td>AH</td><td>AH-1</td><td>21.0</td><td>81.0</td><td>301,358</td><td>24,410,000</td></tr>\n",
              "\t<tr><td>AH</td><td>AH-2</td><td>21.0</td><td>86.0</td><td>313,488</td><td>26,960,000</td></tr>\n",
              "</tbody>\n",
              "</table>\n"
            ]
          },
          "metadata": {
            "tags": []
          }
        }
      ]
    },
    {
      "cell_type": "markdown",
      "metadata": {
        "_uuid": "4d9251ef-4d5a-4130-8922-218f4a197a3d",
        "_cell_guid": "1f90a9dc-9c55-4420-9db4-a740b0e0776f",
        "trusted": true,
        "id": "YvDZRXfoxQGR",
        "colab_type": "text"
      },
      "source": [
        "**Kesimpulan :**\n",
        "Berdasarkan analisis tersebut, dapat disimpulkan bahwa rendahnya performa dari cabang AE adalah karena salah satu agen yang melakukan pencairan hanya 4 hari dalam 1 bulan, padahal agen lain bisa aktif 21 hari.\n",
        "\n",
        "Hal ini membuat total amount dari agen tersebut hanya 20% dibandingkan agen yang lainnya.\n",
        "\n",
        "Sedangkan pada cabang AH, performanya sangat baik karena ketiga agen melakukan pencairan hampir / selalu setiap hari kerja. 2 orang full 21 hari 1 orang 19 hari. Sehingga performa nya terjaga dengan baik.\n",
        "\n",
        "Perlu diperhatikan juga bahwa untuk membandingkan performa cabang itu sebaiknya di kelompokkan dulu berdasarkan karakteristik yang sama. Tidak langsung semua cabang dibandingkan tanpa mengetahui karakteristik nya.\n",
        "\n",
        "Apalagi ketika dalam real world nanti cabang ini bisa terletak di berbeda wilayah (pulau misalnya) yang mempunyai kultur yang berbeda\n",
        "\n",
        "Selanjutnya perlu dianalisis lebih lanjut kenapa ada agen yang hanya aktif beberapa hari saja dalam sebulan.\n",
        "\n",
        "Untuk kedepannya setiap agen agar dipastikan untuk bisa aktif setiap hari nya, sehingga bisa menjaga performa cabang."
      ]
    },
    {
      "cell_type": "markdown",
      "metadata": {
        "_uuid": "5fce8cfe-3829-4e6e-b26b-898eb06dc9c8",
        "_cell_guid": "39a2d1c9-d2bf-41d0-b27d-2d2a956a1c68",
        "trusted": true,
        "id": "IgCQ70-wxQGT",
        "colab_type": "text"
      },
      "source": [
        "# Source : https://academy.dqlab.id/main/project"
      ]
    }
  ]
}